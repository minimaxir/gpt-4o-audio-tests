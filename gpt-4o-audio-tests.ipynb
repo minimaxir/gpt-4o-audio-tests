{
 "cells": [
  {
   "cell_type": "markdown",
   "metadata": {},
   "source": [
    "Test tweaked example from [documentation](https://platform.openai.com/docs/guides/audio) to ensure auth is working OK and file can be saved to a distinct folder.\n"
   ]
  },
  {
   "cell_type": "code",
   "execution_count": 1,
   "metadata": {},
   "outputs": [],
   "source": [
    "import base64\n",
    "import hashlib\n",
    "import os\n",
    "import subprocess\n",
    "\n",
    "from dotenv import load_dotenv\n",
    "from openai import OpenAI\n",
    "from rich.console import Console\n",
    "from rich.table import Table\n",
    "\n",
    "load_dotenv()  # OPENAI_API_KEY=\"sk-[...]\"\n",
    "\n",
    "client = OpenAI()\n",
    "\n",
    "output_path = \"outputs\""
   ]
  },
  {
   "cell_type": "code",
   "execution_count": null,
   "metadata": {},
   "outputs": [],
   "source": [
    "completion = client.chat.completions.create(\n",
    "    model=\"gpt-4o-audio-preview\",\n",
    "    modalities=[\"text\", \"audio\"],\n",
    "    audio={\"voice\": \"alloy\", \"format\": \"wav\"},\n",
    "    messages=[{\"role\": \"user\", \"content\": \"Is a golden retriever a good family dog?\"}],\n",
    ")\n",
    "\n",
    "wav_bytes = base64.b64decode(completion.choices[0].message.audio.data)\n",
    "with open(os.path.join(output_path, \"dog.wav\"), \"wb\") as f:\n",
    "    f.write(wav_bytes)"
   ]
  },
  {
   "cell_type": "markdown",
   "metadata": {},
   "source": [
    "## Functionalize\n",
    "\n",
    "Given a `system` prompt, a `text` input, and a `temperature`, generate audio with those parameters. Due to the high cost of generation, we should also track spend.\n",
    "\n",
    "Additionally, compress into a `MP3` for future web display using ffmpeg.\n"
   ]
  },
  {
   "cell_type": "code",
   "execution_count": 12,
   "metadata": {},
   "outputs": [],
   "source": [
    "# https://openai.com/api/pricing/\n",
    "TEXT_INPUT_COST = 2.50 / 1e6\n",
    "AUDIO_INPUT_COST = 100.00 / 1e6\n",
    "\n",
    "TEXT_OUTPUT_COST = 10.00 / 1e6\n",
    "AUDIO_OUTPUT_COST = 200.00 / 1e6\n",
    "\n",
    "\n",
    "def query_cost(completion, console):\n",
    "    usage = completion.usage\n",
    "    table = Table(\n",
    "        \"I/O\",\n",
    "        \"Token Type\",\n",
    "        \"Count\",\n",
    "        \"Cost\",\n",
    "        title=\"Token/Cost Breakdown\",\n",
    "    )\n",
    "\n",
    "    text_input_count = usage.prompt_tokens_details.text_tokens\n",
    "    text_input_cost = text_input_count * TEXT_INPUT_COST\n",
    "    table.add_row(\n",
    "        \"Input\", \"Text\", str(text_input_count), \"${:.3f}\".format(text_input_cost)\n",
    "    )\n",
    "\n",
    "    audio_input_count = usage.prompt_tokens_details.audio_tokens\n",
    "    audio_input_cost = audio_input_count * AUDIO_INPUT_COST\n",
    "    table.add_row(\n",
    "        \"Input\", \"Audio\", str(audio_input_count), \"${:.3f}\".format(audio_input_cost)\n",
    "    )\n",
    "\n",
    "    text_output_count = usage.completion_tokens_details.text_tokens\n",
    "    text_output_cost = text_output_count * TEXT_OUTPUT_COST\n",
    "    table.add_row(\n",
    "        \"Output\", \"Text\", str(text_output_count), \"${:.3f}\".format(text_output_cost)\n",
    "    )\n",
    "\n",
    "    audio_output_count = usage.completion_tokens_details.audio_tokens\n",
    "    audio_output_cost = audio_output_count * AUDIO_OUTPUT_COST\n",
    "    table.add_row(\n",
    "        \"Output\", \"Audio\", str(audio_output_count), \"${:.3f}\".format(audio_output_cost)\n",
    "    )\n",
    "\n",
    "    total_cost = (\n",
    "        text_input_cost + audio_input_cost + text_output_cost + audio_output_cost\n",
    "    )\n",
    "\n",
    "    table.add_row(\n",
    "        \"[b]Total[b]\",\n",
    "        None,\n",
    "        None,\n",
    "        \"[b]${:.3f}[/b]\".format(total_cost),\n",
    "    )\n",
    "\n",
    "    console.print(table)"
   ]
  },
  {
   "cell_type": "code",
   "execution_count": 23,
   "metadata": {},
   "outputs": [],
   "source": [
    "BASE_SYSTEM = \"\"\"\n",
    "You are an expert voice actor specializing in silly voices. Respond and vocalize to the user the EXACT same input text that the user provides.\n",
    "\"\"\"\n",
    "\n",
    "\n",
    "def gen_audio(\n",
    "    system: str = BASE_SYSTEM,\n",
    "    text: str = \"I am a teapot!\",\n",
    "    temperature: float = 0.8,\n",
    "    voice=\"alloy\",\n",
    "):\n",
    "    completion = client.chat.completions.create(\n",
    "        model=\"gpt-4o-audio-preview\",\n",
    "        modalities=[\"text\", \"audio\"],\n",
    "        audio={\"voice\": voice, \"format\": \"wav\"},\n",
    "        messages=[\n",
    "            {\"role\": \"system\", \"content\": system.strip()},\n",
    "            {\"role\": \"user\", \"content\": text.strip()},\n",
    "        ],\n",
    "        temperature=temperature,\n",
    "    )\n",
    "\n",
    "    c = Console(width=60)\n",
    "    c.print(f\"[b]Transcript[/b]: {completion.choices[0].message.audio.transcript}\")\n",
    "    query_cost(completion, c)\n",
    "\n",
    "    # Create output file name: this will be a) distinct and\n",
    "    # b) deterministic with the given parameters\n",
    "    m = hashlib.sha256()\n",
    "    m.update(f\"{system}_{text}_{temperature}_{voice}\".encode())\n",
    "    filename = m.hexdigest()[:16]\n",
    "    out_filename_base = os.path.join(output_path, filename)\n",
    "\n",
    "    wav_bytes = base64.b64decode(completion.choices[0].message.audio.data)\n",
    "    with open(out_filename_base + \".wav\", \"wb\") as f:\n",
    "        f.write(wav_bytes)\n",
    "\n",
    "    # Save a compressed MP3:\n",
    "    # MP3 is required for displaying on the web on all browsers\n",
    "    # 64kbps is enough compression since source audio is lower-quality\n",
    "    subprocess.run(\n",
    "        [\n",
    "            \"ffmpeg\",\n",
    "            \"-y\",\n",
    "            \"-i\",\n",
    "            out_filename_base + \".wav\",\n",
    "            \"-acodec\",\n",
    "            \"libmp3lame\",\n",
    "            \"-b:a\",\n",
    "            \"64k\",\n",
    "            out_filename_base + \".mp3\",\n",
    "        ],\n",
    "        stdout=subprocess.DEVNULL,\n",
    "        stderr=subprocess.STDOUT,\n",
    "    )\n",
    "\n",
    "    # delete original .wav to save space after conversion\n",
    "    os.remove(out_filename_base + \".wav\")\n",
    "\n",
    "    c.print(f\"Audio file saved at [b]{out_filename_base + \".mp3\"}[/b].\")"
   ]
  },
  {
   "cell_type": "code",
   "execution_count": 24,
   "metadata": {},
   "outputs": [
    {
     "data": {
      "text/html": [
       "<pre style=\"white-space:pre;overflow-x:auto;line-height:normal;font-family:Menlo,'DejaVu Sans Mono',consolas,'Courier New',monospace\"><span style=\"font-weight: bold\">Transcript</span>: I am a teapot!\n",
       "</pre>\n"
      ],
      "text/plain": [
       "\u001b[1mTranscript\u001b[0m: I am a teapot!\n"
      ]
     },
     "metadata": {},
     "output_type": "display_data"
    },
    {
     "data": {
      "text/html": [
       "<pre style=\"white-space:pre;overflow-x:auto;line-height:normal;font-family:Menlo,'DejaVu Sans Mono',consolas,'Courier New',monospace\"><span style=\"font-style: italic\">          Token/Cost Breakdown          </span>\n",
       "┏━━━━━━━━┳━━━━━━━━━━━━┳━━━━━━━┳━━━━━━━━┓\n",
       "┃<span style=\"font-weight: bold\"> I/O    </span>┃<span style=\"font-weight: bold\"> Token Type </span>┃<span style=\"font-weight: bold\"> Count </span>┃<span style=\"font-weight: bold\"> Cost   </span>┃\n",
       "┡━━━━━━━━╇━━━━━━━━━━━━╇━━━━━━━╇━━━━━━━━┩\n",
       "│ Input  │ Text       │ 45    │ $0.000 │\n",
       "│ Input  │ Audio      │ 0     │ $0.000 │\n",
       "│ Output │ Text       │ 12    │ $0.000 │\n",
       "│ Output │ Audio      │ 31    │ $0.006 │\n",
       "│ <span style=\"font-weight: bold\">Total</span>  │            │       │ <span style=\"font-weight: bold\">$0.006</span> │\n",
       "└────────┴────────────┴───────┴────────┘\n",
       "</pre>\n"
      ],
      "text/plain": [
       "\u001b[3m          Token/Cost Breakdown          \u001b[0m\n",
       "┏━━━━━━━━┳━━━━━━━━━━━━┳━━━━━━━┳━━━━━━━━┓\n",
       "┃\u001b[1m \u001b[0m\u001b[1mI/O   \u001b[0m\u001b[1m \u001b[0m┃\u001b[1m \u001b[0m\u001b[1mToken Type\u001b[0m\u001b[1m \u001b[0m┃\u001b[1m \u001b[0m\u001b[1mCount\u001b[0m\u001b[1m \u001b[0m┃\u001b[1m \u001b[0m\u001b[1mCost  \u001b[0m\u001b[1m \u001b[0m┃\n",
       "┡━━━━━━━━╇━━━━━━━━━━━━╇━━━━━━━╇━━━━━━━━┩\n",
       "│ Input  │ Text       │ 45    │ $0.000 │\n",
       "│ Input  │ Audio      │ 0     │ $0.000 │\n",
       "│ Output │ Text       │ 12    │ $0.000 │\n",
       "│ Output │ Audio      │ 31    │ $0.006 │\n",
       "│ \u001b[1mTotal\u001b[0m  │            │       │ \u001b[1m$0.006\u001b[0m │\n",
       "└────────┴────────────┴───────┴────────┘\n"
      ]
     },
     "metadata": {},
     "output_type": "display_data"
    },
    {
     "data": {
      "text/html": [
       "<pre style=\"white-space:pre;overflow-x:auto;line-height:normal;font-family:Menlo,'DejaVu Sans Mono',consolas,'Courier New',monospace\">Audio file saved at <span style=\"font-weight: bold\">outputs/9cc3b02958cbd87a.mp3</span>.\n",
       "</pre>\n"
      ],
      "text/plain": [
       "Audio file saved at \u001b[1moutputs/9cc3b02958cbd87a.mp3\u001b[0m.\n"
      ]
     },
     "metadata": {},
     "output_type": "display_data"
    }
   ],
   "source": [
    "gen_audio()"
   ]
  },
  {
   "cell_type": "code",
   "execution_count": 25,
   "metadata": {},
   "outputs": [
    {
     "data": {
      "text/html": [
       "<pre style=\"white-space:pre;overflow-x:auto;line-height:normal;font-family:Menlo,'DejaVu Sans Mono',consolas,'Courier New',monospace\"><span style=\"font-weight: bold\">Transcript</span>: In a shocking finding, scientist discovered a \n",
       "herd of unicorns living in a remote, previously unexplored \n",
       "valley, in the Andes Mountains.\n",
       "</pre>\n"
      ],
      "text/plain": [
       "\u001b[1mTranscript\u001b[0m: In a shocking finding, scientist discovered a \n",
       "herd of unicorns living in a remote, previously unexplored \n",
       "valley, in the Andes Mountains.\n"
      ]
     },
     "metadata": {},
     "output_type": "display_data"
    },
    {
     "data": {
      "text/html": [
       "<pre style=\"white-space:pre;overflow-x:auto;line-height:normal;font-family:Menlo,'DejaVu Sans Mono',consolas,'Courier New',monospace\"><span style=\"font-style: italic\">          Token/Cost Breakdown          </span>\n",
       "┏━━━━━━━━┳━━━━━━━━━━━━┳━━━━━━━┳━━━━━━━━┓\n",
       "┃<span style=\"font-weight: bold\"> I/O    </span>┃<span style=\"font-weight: bold\"> Token Type </span>┃<span style=\"font-weight: bold\"> Count </span>┃<span style=\"font-weight: bold\"> Cost   </span>┃\n",
       "┡━━━━━━━━╇━━━━━━━━━━━━╇━━━━━━━╇━━━━━━━━┩\n",
       "│ Input  │ Text       │ 66    │ $0.000 │\n",
       "│ Input  │ Audio      │ 0     │ $0.000 │\n",
       "│ Output │ Text       │ 45    │ $0.000 │\n",
       "│ Output │ Audio      │ 204   │ $0.041 │\n",
       "│ <span style=\"font-weight: bold\">Total</span>  │            │       │ <span style=\"font-weight: bold\">$0.041</span> │\n",
       "└────────┴────────────┴───────┴────────┘\n",
       "</pre>\n"
      ],
      "text/plain": [
       "\u001b[3m          Token/Cost Breakdown          \u001b[0m\n",
       "┏━━━━━━━━┳━━━━━━━━━━━━┳━━━━━━━┳━━━━━━━━┓\n",
       "┃\u001b[1m \u001b[0m\u001b[1mI/O   \u001b[0m\u001b[1m \u001b[0m┃\u001b[1m \u001b[0m\u001b[1mToken Type\u001b[0m\u001b[1m \u001b[0m┃\u001b[1m \u001b[0m\u001b[1mCount\u001b[0m\u001b[1m \u001b[0m┃\u001b[1m \u001b[0m\u001b[1mCost  \u001b[0m\u001b[1m \u001b[0m┃\n",
       "┡━━━━━━━━╇━━━━━━━━━━━━╇━━━━━━━╇━━━━━━━━┩\n",
       "│ Input  │ Text       │ 66    │ $0.000 │\n",
       "│ Input  │ Audio      │ 0     │ $0.000 │\n",
       "│ Output │ Text       │ 45    │ $0.000 │\n",
       "│ Output │ Audio      │ 204   │ $0.041 │\n",
       "│ \u001b[1mTotal\u001b[0m  │            │       │ \u001b[1m$0.041\u001b[0m │\n",
       "└────────┴────────────┴───────┴────────┘\n"
      ]
     },
     "metadata": {},
     "output_type": "display_data"
    },
    {
     "data": {
      "text/html": [
       "<pre style=\"white-space:pre;overflow-x:auto;line-height:normal;font-family:Menlo,'DejaVu Sans Mono',consolas,'Courier New',monospace\">Audio file saved at <span style=\"font-weight: bold\">outputs/57e78a130b13ff02.mp3</span>.\n",
       "</pre>\n"
      ],
      "text/plain": [
       "Audio file saved at \u001b[1moutputs/57e78a130b13ff02.mp3\u001b[0m.\n"
      ]
     },
     "metadata": {},
     "output_type": "display_data"
    }
   ],
   "source": [
    "# https://openai.com/index/better-language-models/\n",
    "BASE_TEXT = \"\"\"\n",
    "In a shocking finding, scientist discovered a herd of unicorns living in a remote, previously unexplored valley, in the Andes Mountains.\n",
    "\"\"\"\n",
    "\n",
    "gen_audio(text=BASE_TEXT)"
   ]
  },
  {
   "cell_type": "code",
   "execution_count": 27,
   "metadata": {},
   "outputs": [
    {
     "data": {
      "text/html": [
       "<pre style=\"white-space:pre;overflow-x:auto;line-height:normal;font-family:Menlo,'DejaVu Sans Mono',consolas,'Courier New',monospace\"><span style=\"font-weight: bold\">Transcript</span>: In a shocking finding, scientist discovered a \n",
       "herd of unicorns living in a remote, previously unexplored \n",
       "valley, in the Andes Mountains.\n",
       "</pre>\n"
      ],
      "text/plain": [
       "\u001b[1mTranscript\u001b[0m: In a shocking finding, scientist discovered a \n",
       "herd of unicorns living in a remote, previously unexplored \n",
       "valley, in the Andes Mountains.\n"
      ]
     },
     "metadata": {},
     "output_type": "display_data"
    },
    {
     "data": {
      "text/html": [
       "<pre style=\"white-space:pre;overflow-x:auto;line-height:normal;font-family:Menlo,'DejaVu Sans Mono',consolas,'Courier New',monospace\"><span style=\"font-style: italic\">          Token/Cost Breakdown          </span>\n",
       "┏━━━━━━━━┳━━━━━━━━━━━━┳━━━━━━━┳━━━━━━━━┓\n",
       "┃<span style=\"font-weight: bold\"> I/O    </span>┃<span style=\"font-weight: bold\"> Token Type </span>┃<span style=\"font-weight: bold\"> Count </span>┃<span style=\"font-weight: bold\"> Cost   </span>┃\n",
       "┡━━━━━━━━╇━━━━━━━━━━━━╇━━━━━━━╇━━━━━━━━┩\n",
       "│ Input  │ Text       │ 66    │ $0.000 │\n",
       "│ Input  │ Audio      │ 0     │ $0.000 │\n",
       "│ Output │ Text       │ 43    │ $0.000 │\n",
       "│ Output │ Audio      │ 220   │ $0.044 │\n",
       "│ <span style=\"font-weight: bold\">Total</span>  │            │       │ <span style=\"font-weight: bold\">$0.045</span> │\n",
       "└────────┴────────────┴───────┴────────┘\n",
       "</pre>\n"
      ],
      "text/plain": [
       "\u001b[3m          Token/Cost Breakdown          \u001b[0m\n",
       "┏━━━━━━━━┳━━━━━━━━━━━━┳━━━━━━━┳━━━━━━━━┓\n",
       "┃\u001b[1m \u001b[0m\u001b[1mI/O   \u001b[0m\u001b[1m \u001b[0m┃\u001b[1m \u001b[0m\u001b[1mToken Type\u001b[0m\u001b[1m \u001b[0m┃\u001b[1m \u001b[0m\u001b[1mCount\u001b[0m\u001b[1m \u001b[0m┃\u001b[1m \u001b[0m\u001b[1mCost  \u001b[0m\u001b[1m \u001b[0m┃\n",
       "┡━━━━━━━━╇━━━━━━━━━━━━╇━━━━━━━╇━━━━━━━━┩\n",
       "│ Input  │ Text       │ 66    │ $0.000 │\n",
       "│ Input  │ Audio      │ 0     │ $0.000 │\n",
       "│ Output │ Text       │ 43    │ $0.000 │\n",
       "│ Output │ Audio      │ 220   │ $0.044 │\n",
       "│ \u001b[1mTotal\u001b[0m  │            │       │ \u001b[1m$0.045\u001b[0m │\n",
       "└────────┴────────────┴───────┴────────┘\n"
      ]
     },
     "metadata": {},
     "output_type": "display_data"
    },
    {
     "data": {
      "text/html": [
       "<pre style=\"white-space:pre;overflow-x:auto;line-height:normal;font-family:Menlo,'DejaVu Sans Mono',consolas,'Courier New',monospace\">Audio file saved at <span style=\"font-weight: bold\">outputs/30521665764d18db.mp3</span>.\n",
       "</pre>\n"
      ],
      "text/plain": [
       "Audio file saved at \u001b[1moutputs/30521665764d18db.mp3\u001b[0m.\n"
      ]
     },
     "metadata": {},
     "output_type": "display_data"
    }
   ],
   "source": [
    "gen_audio(text=BASE_TEXT, temperature=1.2)"
   ]
  },
  {
   "cell_type": "code",
   "execution_count": 28,
   "metadata": {},
   "outputs": [
    {
     "data": {
      "text/html": [
       "<pre style=\"white-space:pre;overflow-x:auto;line-height:normal;font-family:Menlo,'DejaVu Sans Mono',consolas,'Courier New',monospace\"><span style=\"font-weight: bold\">Transcript</span>: In a shocking finding, scientist discovered a \n",
       "herd of unicorns living in a remote, previously unexplored \n",
       "valley, in the Andes Mountains.\n",
       "</pre>\n"
      ],
      "text/plain": [
       "\u001b[1mTranscript\u001b[0m: In a shocking finding, scientist discovered a \n",
       "herd of unicorns living in a remote, previously unexplored \n",
       "valley, in the Andes Mountains.\n"
      ]
     },
     "metadata": {},
     "output_type": "display_data"
    },
    {
     "data": {
      "text/html": [
       "<pre style=\"white-space:pre;overflow-x:auto;line-height:normal;font-family:Menlo,'DejaVu Sans Mono',consolas,'Courier New',monospace\"><span style=\"font-style: italic\">          Token/Cost Breakdown          </span>\n",
       "┏━━━━━━━━┳━━━━━━━━━━━━┳━━━━━━━┳━━━━━━━━┓\n",
       "┃<span style=\"font-weight: bold\"> I/O    </span>┃<span style=\"font-weight: bold\"> Token Type </span>┃<span style=\"font-weight: bold\"> Count </span>┃<span style=\"font-weight: bold\"> Cost   </span>┃\n",
       "┡━━━━━━━━╇━━━━━━━━━━━━╇━━━━━━━╇━━━━━━━━┩\n",
       "│ Input  │ Text       │ 66    │ $0.000 │\n",
       "│ Input  │ Audio      │ 0     │ $0.000 │\n",
       "│ Output │ Text       │ 43    │ $0.000 │\n",
       "│ Output │ Audio      │ 187   │ $0.037 │\n",
       "│ <span style=\"font-weight: bold\">Total</span>  │            │       │ <span style=\"font-weight: bold\">$0.038</span> │\n",
       "└────────┴────────────┴───────┴────────┘\n",
       "</pre>\n"
      ],
      "text/plain": [
       "\u001b[3m          Token/Cost Breakdown          \u001b[0m\n",
       "┏━━━━━━━━┳━━━━━━━━━━━━┳━━━━━━━┳━━━━━━━━┓\n",
       "┃\u001b[1m \u001b[0m\u001b[1mI/O   \u001b[0m\u001b[1m \u001b[0m┃\u001b[1m \u001b[0m\u001b[1mToken Type\u001b[0m\u001b[1m \u001b[0m┃\u001b[1m \u001b[0m\u001b[1mCount\u001b[0m\u001b[1m \u001b[0m┃\u001b[1m \u001b[0m\u001b[1mCost  \u001b[0m\u001b[1m \u001b[0m┃\n",
       "┡━━━━━━━━╇━━━━━━━━━━━━╇━━━━━━━╇━━━━━━━━┩\n",
       "│ Input  │ Text       │ 66    │ $0.000 │\n",
       "│ Input  │ Audio      │ 0     │ $0.000 │\n",
       "│ Output │ Text       │ 43    │ $0.000 │\n",
       "│ Output │ Audio      │ 187   │ $0.037 │\n",
       "│ \u001b[1mTotal\u001b[0m  │            │       │ \u001b[1m$0.038\u001b[0m │\n",
       "└────────┴────────────┴───────┴────────┘\n"
      ]
     },
     "metadata": {},
     "output_type": "display_data"
    },
    {
     "data": {
      "text/html": [
       "<pre style=\"white-space:pre;overflow-x:auto;line-height:normal;font-family:Menlo,'DejaVu Sans Mono',consolas,'Courier New',monospace\">Audio file saved at <span style=\"font-weight: bold\">outputs/cc27a5c3ce47532e.mp3</span>.\n",
       "</pre>\n"
      ],
      "text/plain": [
       "Audio file saved at \u001b[1moutputs/cc27a5c3ce47532e.mp3\u001b[0m.\n"
      ]
     },
     "metadata": {},
     "output_type": "display_data"
    }
   ],
   "source": [
    "gen_audio(text=BASE_TEXT, temperature=0.6)"
   ]
  },
  {
   "cell_type": "code",
   "execution_count": null,
   "metadata": {},
   "outputs": [],
   "source": []
  }
 ],
 "metadata": {
  "kernelspec": {
   "display_name": ".venv",
   "language": "python",
   "name": "python3"
  },
  "language_info": {
   "codemirror_mode": {
    "name": "ipython",
    "version": 3
   },
   "file_extension": ".py",
   "mimetype": "text/x-python",
   "name": "python",
   "nbconvert_exporter": "python",
   "pygments_lexer": "ipython3",
   "version": "3.12.6"
  }
 },
 "nbformat": 4,
 "nbformat_minor": 2
}
