{
 "cells": [
  {
   "cell_type": "markdown",
   "metadata": {},
   "source": [
    "Test tweaked example from [documentation](https://platform.openai.com/docs/guides/audio) to ensure auth is working OK and file can be saved to a distinct folder.\n"
   ]
  },
  {
   "cell_type": "code",
   "execution_count": 1,
   "metadata": {},
   "outputs": [],
   "source": [
    "import base64\n",
    "import hashlib\n",
    "import os\n",
    "import subprocess\n",
    "\n",
    "from dotenv import load_dotenv\n",
    "from openai import OpenAI\n",
    "from rich.console import Console\n",
    "from rich.table import Table\n",
    "\n",
    "load_dotenv()  # OPENAI_API_KEY=\"sk-[...]\"\n",
    "\n",
    "client = OpenAI()\n",
    "\n",
    "output_path = \"outputs\""
   ]
  },
  {
   "cell_type": "code",
   "execution_count": 2,
   "metadata": {},
   "outputs": [
    {
     "name": "stdout",
     "output_type": "stream",
     "text": [
      "CompletionUsage(completion_tokens=357, prompt_tokens=17, total_tokens=374, completion_tokens_details=CompletionTokensDetails(audio_tokens=284, reasoning_tokens=0, text_tokens=73), prompt_tokens_details=PromptTokensDetails(audio_tokens=0, cached_tokens=0, text_tokens=17, image_tokens=0))\n"
     ]
    }
   ],
   "source": [
    "completion = client.chat.completions.create(\n",
    "    model=\"gpt-4o-audio-preview\",\n",
    "    modalities=[\"text\", \"audio\"],\n",
    "    audio={\"voice\": \"alloy\", \"format\": \"wav\"},\n",
    "    messages=[{\"role\": \"user\", \"content\": \"Is a golden retriever a good family dog?\"}],\n",
    ")\n",
    "\n",
    "print(completion.usage)\n",
    "\n",
    "wav_bytes = base64.b64decode(completion.choices[0].message.audio.data)\n",
    "with open(os.path.join(output_path, \"dog.wav\"), \"wb\") as f:\n",
    "    f.write(wav_bytes)"
   ]
  },
  {
   "cell_type": "markdown",
   "metadata": {},
   "source": [
    "## Functionalize\n",
    "\n",
    "Given a `system` prompt, a `text` input, and a `temperature`, generate audio with those parameters. Due to the high cost of generation, we should also track spend.\n",
    "\n",
    "Additionally, compress into a `MP3` for future web display using ffmpeg.\n"
   ]
  },
  {
   "cell_type": "code",
   "execution_count": 12,
   "metadata": {},
   "outputs": [],
   "source": [
    "# https://openai.com/api/pricing/\n",
    "TEXT_INPUT_COST = 2.50 / 1e6\n",
    "AUDIO_INPUT_COST = 100.00 / 1e6\n",
    "\n",
    "TEXT_OUTPUT_COST = 10.00 / 1e6\n",
    "AUDIO_OUTPUT_COST = 200.00 / 1e6\n",
    "\n",
    "\n",
    "def query_cost(completion, console):\n",
    "    usage = completion.usage\n",
    "    table = Table(title=\"Token/Cost Breakdown\", show_footer=True)\n",
    "\n",
    "    text_input_count = usage.prompt_tokens_details.text_tokens\n",
    "    text_input_cost = text_input_count * TEXT_INPUT_COST\n",
    "\n",
    "    audio_input_count = usage.prompt_tokens_details.audio_tokens\n",
    "    audio_input_cost = audio_input_count * AUDIO_INPUT_COST\n",
    "\n",
    "    text_output_count = usage.completion_tokens_details.text_tokens\n",
    "    text_output_cost = text_output_count * TEXT_OUTPUT_COST\n",
    "\n",
    "    audio_output_count = usage.completion_tokens_details.audio_tokens\n",
    "    audio_output_cost = audio_output_count * AUDIO_OUTPUT_COST\n",
    "\n",
    "    total_cost = (\n",
    "        text_input_cost + audio_input_cost + text_output_cost + audio_output_cost\n",
    "    )\n",
    "\n",
    "    table.add_column(\"I/O\", footer=\"[b]Total[b]\")\n",
    "    table.add_column(\"Token Type\")\n",
    "    table.add_column(\"Count\")\n",
    "    table.add_column(\n",
    "        \"Cost\", footer=\"[b bright_red]${:.3f}[/b bright_red]\".format(total_cost)\n",
    "    )\n",
    "\n",
    "    table.add_row(\n",
    "        \"Input\", \"Text\", str(text_input_count), \"${:.3f}\".format(text_input_cost)\n",
    "    )\n",
    "\n",
    "    table.add_row(\n",
    "        \"Input\", \"Audio\", str(audio_input_count), \"${:.3f}\".format(audio_input_cost)\n",
    "    )\n",
    "\n",
    "    table.add_row(\n",
    "        \"Output\", \"Text\", str(text_output_count), \"${:.3f}\".format(text_output_cost)\n",
    "    )\n",
    "\n",
    "    table.add_row(\n",
    "        \"Output\", \"Audio\", str(audio_output_count), \"${:.3f}\".format(audio_output_cost)\n",
    "    )\n",
    "\n",
    "    console.print(table)"
   ]
  },
  {
   "cell_type": "code",
   "execution_count": 13,
   "metadata": {},
   "outputs": [],
   "source": [
    "BASE_SYSTEM = \"\"\"\n",
    "You are an expert voice actor specializing in silly voices. Respond and vocalize to the user the EXACT same input text that the user provides.\n",
    "\"\"\"\n",
    "\n",
    "\n",
    "def gen_audio(\n",
    "    system: str = BASE_SYSTEM,\n",
    "    text: str = \"I am a teapot!\",\n",
    "    temperature: float = 0.8,\n",
    "    voice=\"alloy\",\n",
    "):\n",
    "    completion = client.chat.completions.create(\n",
    "        model=\"gpt-4o-audio-preview\",\n",
    "        modalities=[\"text\", \"audio\"],\n",
    "        audio={\"voice\": voice, \"format\": \"wav\"},\n",
    "        messages=[\n",
    "            {\"role\": \"system\", \"content\": system.strip()},\n",
    "            {\"role\": \"user\", \"content\": text.strip()},\n",
    "        ],\n",
    "        temperature=temperature,\n",
    "    )\n",
    "\n",
    "    c = Console(width=60)\n",
    "    c.print(f\"[b]Transcript[/b]: {completion.choices[0].message.audio.transcript}\")\n",
    "    query_cost(completion, c)\n",
    "\n",
    "    # Create output file name: this will be a) distinct and\n",
    "    # b) deterministic with the given parameters\n",
    "    m = hashlib.sha256()\n",
    "    m.update(f\"{system}_{text}_{temperature}_{voice}\".encode())\n",
    "    filename = m.hexdigest()[:16]\n",
    "    out_filename_base = os.path.join(output_path, filename)\n",
    "\n",
    "    wav_bytes = base64.b64decode(completion.choices[0].message.audio.data)\n",
    "    with open(out_filename_base + \".wav\", \"wb\") as f:\n",
    "        f.write(wav_bytes)\n",
    "\n",
    "    # Save a compressed MP3:\n",
    "    # MP3 is required for displaying on the web on all browsers\n",
    "    # 64kbps is enough compression since source audio is lower-quality\n",
    "    subprocess.run(\n",
    "        [\n",
    "            \"ffmpeg\",\n",
    "            \"-y\",\n",
    "            \"-i\",\n",
    "            out_filename_base + \".wav\",\n",
    "            \"-acodec\",\n",
    "            \"libmp3lame\",\n",
    "            \"-b:a\",\n",
    "            \"64k\",\n",
    "            out_filename_base + \".mp3\",\n",
    "        ],\n",
    "        stdout=subprocess.DEVNULL,\n",
    "        stderr=subprocess.STDOUT,\n",
    "    )\n",
    "\n",
    "    # delete original .wav to save space after conversion\n",
    "    os.remove(out_filename_base + \".wav\")\n",
    "\n",
    "    c.print(f\"Audio file saved at [b]{out_filename_base + \".mp3\"}[/b].\")"
   ]
  },
  {
   "cell_type": "code",
   "execution_count": 14,
   "metadata": {},
   "outputs": [
    {
     "data": {
      "text/html": [
       "<pre style=\"white-space:pre;overflow-x:auto;line-height:normal;font-family:Menlo,'DejaVu Sans Mono',consolas,'Courier New',monospace\"><span style=\"font-weight: bold\">Transcript</span>: I am a teapot!\n",
       "</pre>\n"
      ],
      "text/plain": [
       "\u001b[1mTranscript\u001b[0m: I am a teapot!\n"
      ]
     },
     "metadata": {},
     "output_type": "display_data"
    },
    {
     "data": {
      "text/html": [
       "<pre style=\"white-space:pre;overflow-x:auto;line-height:normal;font-family:Menlo,'DejaVu Sans Mono',consolas,'Courier New',monospace\"><span style=\"font-style: italic\">          Token/Cost Breakdown          </span>\n",
       "┏━━━━━━━━┳━━━━━━━━━━━━┳━━━━━━━┳━━━━━━━━┓\n",
       "┃<span style=\"font-weight: bold\"> I/O    </span>┃<span style=\"font-weight: bold\"> Token Type </span>┃<span style=\"font-weight: bold\"> Count </span>┃<span style=\"font-weight: bold\"> Cost   </span>┃\n",
       "┡━━━━━━━━╇━━━━━━━━━━━━╇━━━━━━━╇━━━━━━━━┩\n",
       "│ Input  │ Text       │ 45    │ $0.000 │\n",
       "│ Input  │ Audio      │ 0     │ $0.000 │\n",
       "│ Output │ Text       │ 12    │ $0.000 │\n",
       "│ Output │ Audio      │ 21    │ $0.004 │\n",
       "├────────┼────────────┼───────┼────────┤\n",
       "│<span style=\"font-weight: bold\"> Total  </span>│<span style=\"font-weight: bold\">            </span>│<span style=\"font-weight: bold\">       </span>│<span style=\"font-weight: bold\"> </span><span style=\"color: #ff0000; text-decoration-color: #ff0000; font-weight: bold\">$0.004</span><span style=\"font-weight: bold\"> </span>│\n",
       "└────────┴────────────┴───────┴────────┘\n",
       "</pre>\n"
      ],
      "text/plain": [
       "\u001b[3m          Token/Cost Breakdown          \u001b[0m\n",
       "┏━━━━━━━━┳━━━━━━━━━━━━┳━━━━━━━┳━━━━━━━━┓\n",
       "┃\u001b[1m \u001b[0m\u001b[1mI/O   \u001b[0m\u001b[1m \u001b[0m┃\u001b[1m \u001b[0m\u001b[1mToken Type\u001b[0m\u001b[1m \u001b[0m┃\u001b[1m \u001b[0m\u001b[1mCount\u001b[0m\u001b[1m \u001b[0m┃\u001b[1m \u001b[0m\u001b[1mCost  \u001b[0m\u001b[1m \u001b[0m┃\n",
       "┡━━━━━━━━╇━━━━━━━━━━━━╇━━━━━━━╇━━━━━━━━┩\n",
       "│ Input  │ Text       │ 45    │ $0.000 │\n",
       "│ Input  │ Audio      │ 0     │ $0.000 │\n",
       "│ Output │ Text       │ 12    │ $0.000 │\n",
       "│ Output │ Audio      │ 21    │ $0.004 │\n",
       "├────────┼────────────┼───────┼────────┤\n",
       "│\u001b[1m \u001b[0m\u001b[1mTotal\u001b[0m\u001b[1m \u001b[0m\u001b[1m \u001b[0m│\u001b[1m \u001b[0m\u001b[1m          \u001b[0m\u001b[1m \u001b[0m│\u001b[1m \u001b[0m\u001b[1m     \u001b[0m\u001b[1m \u001b[0m│\u001b[1m \u001b[0m\u001b[1;91m$0.004\u001b[0m\u001b[1m \u001b[0m│\n",
       "└────────┴────────────┴───────┴────────┘\n"
      ]
     },
     "metadata": {},
     "output_type": "display_data"
    },
    {
     "data": {
      "text/html": [
       "<pre style=\"white-space:pre;overflow-x:auto;line-height:normal;font-family:Menlo,'DejaVu Sans Mono',consolas,'Courier New',monospace\">Audio file saved at <span style=\"font-weight: bold\">outputs/9cc3b02958cbd87a.mp3</span>.\n",
       "</pre>\n"
      ],
      "text/plain": [
       "Audio file saved at \u001b[1moutputs/9cc3b02958cbd87a.mp3\u001b[0m.\n"
      ]
     },
     "metadata": {},
     "output_type": "display_data"
    }
   ],
   "source": [
    "gen_audio()"
   ]
  },
  {
   "cell_type": "code",
   "execution_count": 15,
   "metadata": {},
   "outputs": [
    {
     "data": {
      "text/html": [
       "<pre style=\"white-space:pre;overflow-x:auto;line-height:normal;font-family:Menlo,'DejaVu Sans Mono',consolas,'Courier New',monospace\"><span style=\"font-weight: bold\">Transcript</span>: Is a golden retriever a good family dog?\n",
       "</pre>\n"
      ],
      "text/plain": [
       "\u001b[1mTranscript\u001b[0m: Is a golden retriever a good family dog?\n"
      ]
     },
     "metadata": {},
     "output_type": "display_data"
    },
    {
     "data": {
      "text/html": [
       "<pre style=\"white-space:pre;overflow-x:auto;line-height:normal;font-family:Menlo,'DejaVu Sans Mono',consolas,'Courier New',monospace\"><span style=\"font-style: italic\">          Token/Cost Breakdown          </span>\n",
       "┏━━━━━━━━┳━━━━━━━━━━━━┳━━━━━━━┳━━━━━━━━┓\n",
       "┃<span style=\"font-weight: bold\"> I/O    </span>┃<span style=\"font-weight: bold\"> Token Type </span>┃<span style=\"font-weight: bold\"> Count </span>┃<span style=\"font-weight: bold\"> Cost   </span>┃\n",
       "┡━━━━━━━━╇━━━━━━━━━━━━╇━━━━━━━╇━━━━━━━━┩\n",
       "│ Input  │ Text       │ 49    │ $0.000 │\n",
       "│ Input  │ Audio      │ 0     │ $0.000 │\n",
       "│ Output │ Text       │ 21    │ $0.000 │\n",
       "│ Output │ Audio      │ 65    │ $0.013 │\n",
       "├────────┼────────────┼───────┼────────┤\n",
       "│<span style=\"font-weight: bold\"> Total  </span>│<span style=\"font-weight: bold\">            </span>│<span style=\"font-weight: bold\">       </span>│<span style=\"font-weight: bold\"> </span><span style=\"color: #ff0000; text-decoration-color: #ff0000; font-weight: bold\">$0.013</span><span style=\"font-weight: bold\"> </span>│\n",
       "└────────┴────────────┴───────┴────────┘\n",
       "</pre>\n"
      ],
      "text/plain": [
       "\u001b[3m          Token/Cost Breakdown          \u001b[0m\n",
       "┏━━━━━━━━┳━━━━━━━━━━━━┳━━━━━━━┳━━━━━━━━┓\n",
       "┃\u001b[1m \u001b[0m\u001b[1mI/O   \u001b[0m\u001b[1m \u001b[0m┃\u001b[1m \u001b[0m\u001b[1mToken Type\u001b[0m\u001b[1m \u001b[0m┃\u001b[1m \u001b[0m\u001b[1mCount\u001b[0m\u001b[1m \u001b[0m┃\u001b[1m \u001b[0m\u001b[1mCost  \u001b[0m\u001b[1m \u001b[0m┃\n",
       "┡━━━━━━━━╇━━━━━━━━━━━━╇━━━━━━━╇━━━━━━━━┩\n",
       "│ Input  │ Text       │ 49    │ $0.000 │\n",
       "│ Input  │ Audio      │ 0     │ $0.000 │\n",
       "│ Output │ Text       │ 21    │ $0.000 │\n",
       "│ Output │ Audio      │ 65    │ $0.013 │\n",
       "├────────┼────────────┼───────┼────────┤\n",
       "│\u001b[1m \u001b[0m\u001b[1mTotal\u001b[0m\u001b[1m \u001b[0m\u001b[1m \u001b[0m│\u001b[1m \u001b[0m\u001b[1m          \u001b[0m\u001b[1m \u001b[0m│\u001b[1m \u001b[0m\u001b[1m     \u001b[0m\u001b[1m \u001b[0m│\u001b[1m \u001b[0m\u001b[1;91m$0.013\u001b[0m\u001b[1m \u001b[0m│\n",
       "└────────┴────────────┴───────┴────────┘\n"
      ]
     },
     "metadata": {},
     "output_type": "display_data"
    },
    {
     "data": {
      "text/html": [
       "<pre style=\"white-space:pre;overflow-x:auto;line-height:normal;font-family:Menlo,'DejaVu Sans Mono',consolas,'Courier New',monospace\">Audio file saved at <span style=\"font-weight: bold\">outputs/a0e8d4c21e0a1119.mp3</span>.\n",
       "</pre>\n"
      ],
      "text/plain": [
       "Audio file saved at \u001b[1moutputs/a0e8d4c21e0a1119.mp3\u001b[0m.\n"
      ]
     },
     "metadata": {},
     "output_type": "display_data"
    }
   ],
   "source": [
    "BASE_TEXT = \"\"\"\n",
    "Is a golden retriever a good family dog?\n",
    "\"\"\"\n",
    "\n",
    "gen_audio(text=BASE_TEXT)"
   ]
  },
  {
   "cell_type": "code",
   "execution_count": 16,
   "metadata": {},
   "outputs": [
    {
     "data": {
      "text/html": [
       "<pre style=\"white-space:pre;overflow-x:auto;line-height:normal;font-family:Menlo,'DejaVu Sans Mono',consolas,'Courier New',monospace\"><span style=\"font-weight: bold\">Transcript</span>: Is a golden retriever a good family dog?\n",
       "</pre>\n"
      ],
      "text/plain": [
       "\u001b[1mTranscript\u001b[0m: Is a golden retriever a good family dog?\n"
      ]
     },
     "metadata": {},
     "output_type": "display_data"
    },
    {
     "data": {
      "text/html": [
       "<pre style=\"white-space:pre;overflow-x:auto;line-height:normal;font-family:Menlo,'DejaVu Sans Mono',consolas,'Courier New',monospace\"><span style=\"font-style: italic\">          Token/Cost Breakdown          </span>\n",
       "┏━━━━━━━━┳━━━━━━━━━━━━┳━━━━━━━┳━━━━━━━━┓\n",
       "┃<span style=\"font-weight: bold\"> I/O    </span>┃<span style=\"font-weight: bold\"> Token Type </span>┃<span style=\"font-weight: bold\"> Count </span>┃<span style=\"font-weight: bold\"> Cost   </span>┃\n",
       "┡━━━━━━━━╇━━━━━━━━━━━━╇━━━━━━━╇━━━━━━━━┩\n",
       "│ Input  │ Text       │ 49    │ $0.000 │\n",
       "│ Input  │ Audio      │ 0     │ $0.000 │\n",
       "│ Output │ Text       │ 21    │ $0.000 │\n",
       "│ Output │ Audio      │ 89    │ $0.018 │\n",
       "├────────┼────────────┼───────┼────────┤\n",
       "│<span style=\"font-weight: bold\"> Total  </span>│<span style=\"font-weight: bold\">            </span>│<span style=\"font-weight: bold\">       </span>│<span style=\"font-weight: bold\"> </span><span style=\"color: #ff0000; text-decoration-color: #ff0000; font-weight: bold\">$0.018</span><span style=\"font-weight: bold\"> </span>│\n",
       "└────────┴────────────┴───────┴────────┘\n",
       "</pre>\n"
      ],
      "text/plain": [
       "\u001b[3m          Token/Cost Breakdown          \u001b[0m\n",
       "┏━━━━━━━━┳━━━━━━━━━━━━┳━━━━━━━┳━━━━━━━━┓\n",
       "┃\u001b[1m \u001b[0m\u001b[1mI/O   \u001b[0m\u001b[1m \u001b[0m┃\u001b[1m \u001b[0m\u001b[1mToken Type\u001b[0m\u001b[1m \u001b[0m┃\u001b[1m \u001b[0m\u001b[1mCount\u001b[0m\u001b[1m \u001b[0m┃\u001b[1m \u001b[0m\u001b[1mCost  \u001b[0m\u001b[1m \u001b[0m┃\n",
       "┡━━━━━━━━╇━━━━━━━━━━━━╇━━━━━━━╇━━━━━━━━┩\n",
       "│ Input  │ Text       │ 49    │ $0.000 │\n",
       "│ Input  │ Audio      │ 0     │ $0.000 │\n",
       "│ Output │ Text       │ 21    │ $0.000 │\n",
       "│ Output │ Audio      │ 89    │ $0.018 │\n",
       "├────────┼────────────┼───────┼────────┤\n",
       "│\u001b[1m \u001b[0m\u001b[1mTotal\u001b[0m\u001b[1m \u001b[0m\u001b[1m \u001b[0m│\u001b[1m \u001b[0m\u001b[1m          \u001b[0m\u001b[1m \u001b[0m│\u001b[1m \u001b[0m\u001b[1m     \u001b[0m\u001b[1m \u001b[0m│\u001b[1m \u001b[0m\u001b[1;91m$0.018\u001b[0m\u001b[1m \u001b[0m│\n",
       "└────────┴────────────┴───────┴────────┘\n"
      ]
     },
     "metadata": {},
     "output_type": "display_data"
    },
    {
     "data": {
      "text/html": [
       "<pre style=\"white-space:pre;overflow-x:auto;line-height:normal;font-family:Menlo,'DejaVu Sans Mono',consolas,'Courier New',monospace\">Audio file saved at <span style=\"font-weight: bold\">outputs/997784ff1111d877.mp3</span>.\n",
       "</pre>\n"
      ],
      "text/plain": [
       "Audio file saved at \u001b[1moutputs/997784ff1111d877.mp3\u001b[0m.\n"
      ]
     },
     "metadata": {},
     "output_type": "display_data"
    }
   ],
   "source": [
    "gen_audio(text=BASE_TEXT, temperature=1.5)"
   ]
  },
  {
   "cell_type": "code",
   "execution_count": 17,
   "metadata": {},
   "outputs": [
    {
     "data": {
      "text/html": [
       "<pre style=\"white-space:pre;overflow-x:auto;line-height:normal;font-family:Menlo,'DejaVu Sans Mono',consolas,'Courier New',monospace\"><span style=\"font-weight: bold\">Transcript</span>: Is a golden retriever a good family dog?\n",
       "</pre>\n"
      ],
      "text/plain": [
       "\u001b[1mTranscript\u001b[0m: Is a golden retriever a good family dog?\n"
      ]
     },
     "metadata": {},
     "output_type": "display_data"
    },
    {
     "data": {
      "text/html": [
       "<pre style=\"white-space:pre;overflow-x:auto;line-height:normal;font-family:Menlo,'DejaVu Sans Mono',consolas,'Courier New',monospace\"><span style=\"font-style: italic\">          Token/Cost Breakdown          </span>\n",
       "┏━━━━━━━━┳━━━━━━━━━━━━┳━━━━━━━┳━━━━━━━━┓\n",
       "┃<span style=\"font-weight: bold\"> I/O    </span>┃<span style=\"font-weight: bold\"> Token Type </span>┃<span style=\"font-weight: bold\"> Count </span>┃<span style=\"font-weight: bold\"> Cost   </span>┃\n",
       "┡━━━━━━━━╇━━━━━━━━━━━━╇━━━━━━━╇━━━━━━━━┩\n",
       "│ Input  │ Text       │ 49    │ $0.000 │\n",
       "│ Input  │ Audio      │ 0     │ $0.000 │\n",
       "│ Output │ Text       │ 18    │ $0.000 │\n",
       "│ Output │ Audio      │ 48    │ $0.010 │\n",
       "├────────┼────────────┼───────┼────────┤\n",
       "│<span style=\"font-weight: bold\"> Total  </span>│<span style=\"font-weight: bold\">            </span>│<span style=\"font-weight: bold\">       </span>│<span style=\"font-weight: bold\"> </span><span style=\"color: #ff0000; text-decoration-color: #ff0000; font-weight: bold\">$0.010</span><span style=\"font-weight: bold\"> </span>│\n",
       "└────────┴────────────┴───────┴────────┘\n",
       "</pre>\n"
      ],
      "text/plain": [
       "\u001b[3m          Token/Cost Breakdown          \u001b[0m\n",
       "┏━━━━━━━━┳━━━━━━━━━━━━┳━━━━━━━┳━━━━━━━━┓\n",
       "┃\u001b[1m \u001b[0m\u001b[1mI/O   \u001b[0m\u001b[1m \u001b[0m┃\u001b[1m \u001b[0m\u001b[1mToken Type\u001b[0m\u001b[1m \u001b[0m┃\u001b[1m \u001b[0m\u001b[1mCount\u001b[0m\u001b[1m \u001b[0m┃\u001b[1m \u001b[0m\u001b[1mCost  \u001b[0m\u001b[1m \u001b[0m┃\n",
       "┡━━━━━━━━╇━━━━━━━━━━━━╇━━━━━━━╇━━━━━━━━┩\n",
       "│ Input  │ Text       │ 49    │ $0.000 │\n",
       "│ Input  │ Audio      │ 0     │ $0.000 │\n",
       "│ Output │ Text       │ 18    │ $0.000 │\n",
       "│ Output │ Audio      │ 48    │ $0.010 │\n",
       "├────────┼────────────┼───────┼────────┤\n",
       "│\u001b[1m \u001b[0m\u001b[1mTotal\u001b[0m\u001b[1m \u001b[0m\u001b[1m \u001b[0m│\u001b[1m \u001b[0m\u001b[1m          \u001b[0m\u001b[1m \u001b[0m│\u001b[1m \u001b[0m\u001b[1m     \u001b[0m\u001b[1m \u001b[0m│\u001b[1m \u001b[0m\u001b[1;91m$0.010\u001b[0m\u001b[1m \u001b[0m│\n",
       "└────────┴────────────┴───────┴────────┘\n"
      ]
     },
     "metadata": {},
     "output_type": "display_data"
    },
    {
     "data": {
      "text/html": [
       "<pre style=\"white-space:pre;overflow-x:auto;line-height:normal;font-family:Menlo,'DejaVu Sans Mono',consolas,'Courier New',monospace\">Audio file saved at <span style=\"font-weight: bold\">outputs/2b6ca20d0bd9b0ca.mp3</span>.\n",
       "</pre>\n"
      ],
      "text/plain": [
       "Audio file saved at \u001b[1moutputs/2b6ca20d0bd9b0ca.mp3\u001b[0m.\n"
      ]
     },
     "metadata": {},
     "output_type": "display_data"
    }
   ],
   "source": [
    "gen_audio(text=BASE_TEXT, temperature=0.6)"
   ]
  },
  {
   "cell_type": "code",
   "execution_count": 18,
   "metadata": {},
   "outputs": [
    {
     "data": {
      "text/html": [
       "<pre style=\"white-space:pre;overflow-x:auto;line-height:normal;font-family:Menlo,'DejaVu Sans Mono',consolas,'Courier New',monospace\"><span style=\"font-weight: bold\">Transcript</span>: Is a golden retriever a good family dog?\n",
       "</pre>\n"
      ],
      "text/plain": [
       "\u001b[1mTranscript\u001b[0m: Is a golden retriever a good family dog?\n"
      ]
     },
     "metadata": {},
     "output_type": "display_data"
    },
    {
     "data": {
      "text/html": [
       "<pre style=\"white-space:pre;overflow-x:auto;line-height:normal;font-family:Menlo,'DejaVu Sans Mono',consolas,'Courier New',monospace\"><span style=\"font-style: italic\">          Token/Cost Breakdown          </span>\n",
       "┏━━━━━━━━┳━━━━━━━━━━━━┳━━━━━━━┳━━━━━━━━┓\n",
       "┃<span style=\"font-weight: bold\"> I/O    </span>┃<span style=\"font-weight: bold\"> Token Type </span>┃<span style=\"font-weight: bold\"> Count </span>┃<span style=\"font-weight: bold\"> Cost   </span>┃\n",
       "┡━━━━━━━━╇━━━━━━━━━━━━╇━━━━━━━╇━━━━━━━━┩\n",
       "│ Input  │ Text       │ 49    │ $0.000 │\n",
       "│ Input  │ Audio      │ 0     │ $0.000 │\n",
       "│ Output │ Text       │ 20    │ $0.000 │\n",
       "│ Output │ Audio      │ 56    │ $0.011 │\n",
       "├────────┼────────────┼───────┼────────┤\n",
       "│<span style=\"font-weight: bold\"> Total  </span>│<span style=\"font-weight: bold\">            </span>│<span style=\"font-weight: bold\">       </span>│<span style=\"font-weight: bold\"> </span><span style=\"color: #ff0000; text-decoration-color: #ff0000; font-weight: bold\">$0.012</span><span style=\"font-weight: bold\"> </span>│\n",
       "└────────┴────────────┴───────┴────────┘\n",
       "</pre>\n"
      ],
      "text/plain": [
       "\u001b[3m          Token/Cost Breakdown          \u001b[0m\n",
       "┏━━━━━━━━┳━━━━━━━━━━━━┳━━━━━━━┳━━━━━━━━┓\n",
       "┃\u001b[1m \u001b[0m\u001b[1mI/O   \u001b[0m\u001b[1m \u001b[0m┃\u001b[1m \u001b[0m\u001b[1mToken Type\u001b[0m\u001b[1m \u001b[0m┃\u001b[1m \u001b[0m\u001b[1mCount\u001b[0m\u001b[1m \u001b[0m┃\u001b[1m \u001b[0m\u001b[1mCost  \u001b[0m\u001b[1m \u001b[0m┃\n",
       "┡━━━━━━━━╇━━━━━━━━━━━━╇━━━━━━━╇━━━━━━━━┩\n",
       "│ Input  │ Text       │ 49    │ $0.000 │\n",
       "│ Input  │ Audio      │ 0     │ $0.000 │\n",
       "│ Output │ Text       │ 20    │ $0.000 │\n",
       "│ Output │ Audio      │ 56    │ $0.011 │\n",
       "├────────┼────────────┼───────┼────────┤\n",
       "│\u001b[1m \u001b[0m\u001b[1mTotal\u001b[0m\u001b[1m \u001b[0m\u001b[1m \u001b[0m│\u001b[1m \u001b[0m\u001b[1m          \u001b[0m\u001b[1m \u001b[0m│\u001b[1m \u001b[0m\u001b[1m     \u001b[0m\u001b[1m \u001b[0m│\u001b[1m \u001b[0m\u001b[1;91m$0.012\u001b[0m\u001b[1m \u001b[0m│\n",
       "└────────┴────────────┴───────┴────────┘\n"
      ]
     },
     "metadata": {},
     "output_type": "display_data"
    },
    {
     "data": {
      "text/html": [
       "<pre style=\"white-space:pre;overflow-x:auto;line-height:normal;font-family:Menlo,'DejaVu Sans Mono',consolas,'Courier New',monospace\">Audio file saved at <span style=\"font-weight: bold\">outputs/c0b17ec8525a1c7b.mp3</span>.\n",
       "</pre>\n"
      ],
      "text/plain": [
       "Audio file saved at \u001b[1moutputs/c0b17ec8525a1c7b.mp3\u001b[0m.\n"
      ]
     },
     "metadata": {},
     "output_type": "display_data"
    }
   ],
   "source": [
    "gen_audio(text=BASE_TEXT, voice=\"echo\")"
   ]
  },
  {
   "cell_type": "code",
   "execution_count": 19,
   "metadata": {},
   "outputs": [
    {
     "data": {
      "text/html": [
       "<pre style=\"white-space:pre;overflow-x:auto;line-height:normal;font-family:Menlo,'DejaVu Sans Mono',consolas,'Courier New',monospace\"><span style=\"font-weight: bold\">Transcript</span>: Is a golden retriever a good family dog?\n",
       "</pre>\n"
      ],
      "text/plain": [
       "\u001b[1mTranscript\u001b[0m: Is a golden retriever a good family dog?\n"
      ]
     },
     "metadata": {},
     "output_type": "display_data"
    },
    {
     "data": {
      "text/html": [
       "<pre style=\"white-space:pre;overflow-x:auto;line-height:normal;font-family:Menlo,'DejaVu Sans Mono',consolas,'Courier New',monospace\"><span style=\"font-style: italic\">          Token/Cost Breakdown          </span>\n",
       "┏━━━━━━━━┳━━━━━━━━━━━━┳━━━━━━━┳━━━━━━━━┓\n",
       "┃<span style=\"font-weight: bold\"> I/O    </span>┃<span style=\"font-weight: bold\"> Token Type </span>┃<span style=\"font-weight: bold\"> Count </span>┃<span style=\"font-weight: bold\"> Cost   </span>┃\n",
       "┡━━━━━━━━╇━━━━━━━━━━━━╇━━━━━━━╇━━━━━━━━┩\n",
       "│ Input  │ Text       │ 49    │ $0.000 │\n",
       "│ Input  │ Audio      │ 0     │ $0.000 │\n",
       "│ Output │ Text       │ 20    │ $0.000 │\n",
       "│ Output │ Audio      │ 51    │ $0.010 │\n",
       "├────────┼────────────┼───────┼────────┤\n",
       "│<span style=\"font-weight: bold\"> Total  </span>│<span style=\"font-weight: bold\">            </span>│<span style=\"font-weight: bold\">       </span>│<span style=\"font-weight: bold\"> </span><span style=\"color: #ff0000; text-decoration-color: #ff0000; font-weight: bold\">$0.011</span><span style=\"font-weight: bold\"> </span>│\n",
       "└────────┴────────────┴───────┴────────┘\n",
       "</pre>\n"
      ],
      "text/plain": [
       "\u001b[3m          Token/Cost Breakdown          \u001b[0m\n",
       "┏━━━━━━━━┳━━━━━━━━━━━━┳━━━━━━━┳━━━━━━━━┓\n",
       "┃\u001b[1m \u001b[0m\u001b[1mI/O   \u001b[0m\u001b[1m \u001b[0m┃\u001b[1m \u001b[0m\u001b[1mToken Type\u001b[0m\u001b[1m \u001b[0m┃\u001b[1m \u001b[0m\u001b[1mCount\u001b[0m\u001b[1m \u001b[0m┃\u001b[1m \u001b[0m\u001b[1mCost  \u001b[0m\u001b[1m \u001b[0m┃\n",
       "┡━━━━━━━━╇━━━━━━━━━━━━╇━━━━━━━╇━━━━━━━━┩\n",
       "│ Input  │ Text       │ 49    │ $0.000 │\n",
       "│ Input  │ Audio      │ 0     │ $0.000 │\n",
       "│ Output │ Text       │ 20    │ $0.000 │\n",
       "│ Output │ Audio      │ 51    │ $0.010 │\n",
       "├────────┼────────────┼───────┼────────┤\n",
       "│\u001b[1m \u001b[0m\u001b[1mTotal\u001b[0m\u001b[1m \u001b[0m\u001b[1m \u001b[0m│\u001b[1m \u001b[0m\u001b[1m          \u001b[0m\u001b[1m \u001b[0m│\u001b[1m \u001b[0m\u001b[1m     \u001b[0m\u001b[1m \u001b[0m│\u001b[1m \u001b[0m\u001b[1;91m$0.011\u001b[0m\u001b[1m \u001b[0m│\n",
       "└────────┴────────────┴───────┴────────┘\n"
      ]
     },
     "metadata": {},
     "output_type": "display_data"
    },
    {
     "data": {
      "text/html": [
       "<pre style=\"white-space:pre;overflow-x:auto;line-height:normal;font-family:Menlo,'DejaVu Sans Mono',consolas,'Courier New',monospace\">Audio file saved at <span style=\"font-weight: bold\">outputs/70b4cb1f8fbf3b34.mp3</span>.\n",
       "</pre>\n"
      ],
      "text/plain": [
       "Audio file saved at \u001b[1moutputs/70b4cb1f8fbf3b34.mp3\u001b[0m.\n"
      ]
     },
     "metadata": {},
     "output_type": "display_data"
    }
   ],
   "source": [
    "gen_audio(text=BASE_TEXT, voice=\"shimmer\")"
   ]
  },
  {
   "cell_type": "markdown",
   "metadata": {},
   "source": [
    "## Advanced Tests\n"
   ]
  },
  {
   "cell_type": "code",
   "execution_count": 21,
   "metadata": {},
   "outputs": [
    {
     "data": {
      "text/html": [
       "<pre style=\"white-space:pre;overflow-x:auto;line-height:normal;font-family:Menlo,'DejaVu Sans Mono',consolas,'Courier New',monospace\"><span style=\"font-weight: bold\">Transcript</span>: In a shocking finding, scientist discovered a \n",
       "herd of unicorns living in a remote, previously unexplored \n",
       "valley, in the Andes Mountains.\n",
       "</pre>\n"
      ],
      "text/plain": [
       "\u001b[1mTranscript\u001b[0m: In a shocking finding, scientist discovered a \n",
       "herd of unicorns living in a remote, previously unexplored \n",
       "valley, in the Andes Mountains.\n"
      ]
     },
     "metadata": {},
     "output_type": "display_data"
    },
    {
     "data": {
      "text/html": [
       "<pre style=\"white-space:pre;overflow-x:auto;line-height:normal;font-family:Menlo,'DejaVu Sans Mono',consolas,'Courier New',monospace\"><span style=\"font-style: italic\">          Token/Cost Breakdown          </span>\n",
       "┏━━━━━━━━┳━━━━━━━━━━━━┳━━━━━━━┳━━━━━━━━┓\n",
       "┃<span style=\"font-weight: bold\"> I/O    </span>┃<span style=\"font-weight: bold\"> Token Type </span>┃<span style=\"font-weight: bold\"> Count </span>┃<span style=\"font-weight: bold\"> Cost   </span>┃\n",
       "┡━━━━━━━━╇━━━━━━━━━━━━╇━━━━━━━╇━━━━━━━━┩\n",
       "│ Input  │ Text       │ 100   │ $0.000 │\n",
       "│ Input  │ Audio      │ 0     │ $0.000 │\n",
       "│ Output │ Text       │ 41    │ $0.000 │\n",
       "│ Output │ Audio      │ 183   │ $0.037 │\n",
       "├────────┼────────────┼───────┼────────┤\n",
       "│<span style=\"font-weight: bold\"> Total  </span>│<span style=\"font-weight: bold\">            </span>│<span style=\"font-weight: bold\">       </span>│<span style=\"font-weight: bold\"> </span><span style=\"color: #ff0000; text-decoration-color: #ff0000; font-weight: bold\">$0.037</span><span style=\"font-weight: bold\"> </span>│\n",
       "└────────┴────────────┴───────┴────────┘\n",
       "</pre>\n"
      ],
      "text/plain": [
       "\u001b[3m          Token/Cost Breakdown          \u001b[0m\n",
       "┏━━━━━━━━┳━━━━━━━━━━━━┳━━━━━━━┳━━━━━━━━┓\n",
       "┃\u001b[1m \u001b[0m\u001b[1mI/O   \u001b[0m\u001b[1m \u001b[0m┃\u001b[1m \u001b[0m\u001b[1mToken Type\u001b[0m\u001b[1m \u001b[0m┃\u001b[1m \u001b[0m\u001b[1mCount\u001b[0m\u001b[1m \u001b[0m┃\u001b[1m \u001b[0m\u001b[1mCost  \u001b[0m\u001b[1m \u001b[0m┃\n",
       "┡━━━━━━━━╇━━━━━━━━━━━━╇━━━━━━━╇━━━━━━━━┩\n",
       "│ Input  │ Text       │ 100   │ $0.000 │\n",
       "│ Input  │ Audio      │ 0     │ $0.000 │\n",
       "│ Output │ Text       │ 41    │ $0.000 │\n",
       "│ Output │ Audio      │ 183   │ $0.037 │\n",
       "├────────┼────────────┼───────┼────────┤\n",
       "│\u001b[1m \u001b[0m\u001b[1mTotal\u001b[0m\u001b[1m \u001b[0m\u001b[1m \u001b[0m│\u001b[1m \u001b[0m\u001b[1m          \u001b[0m\u001b[1m \u001b[0m│\u001b[1m \u001b[0m\u001b[1m     \u001b[0m\u001b[1m \u001b[0m│\u001b[1m \u001b[0m\u001b[1;91m$0.037\u001b[0m\u001b[1m \u001b[0m│\n",
       "└────────┴────────────┴───────┴────────┘\n"
      ]
     },
     "metadata": {},
     "output_type": "display_data"
    },
    {
     "data": {
      "text/html": [
       "<pre style=\"white-space:pre;overflow-x:auto;line-height:normal;font-family:Menlo,'DejaVu Sans Mono',consolas,'Courier New',monospace\">Audio file saved at <span style=\"font-weight: bold\">outputs/2abcf2e3bc1f21bf.mp3</span>.\n",
       "</pre>\n"
      ],
      "text/plain": [
       "Audio file saved at \u001b[1moutputs/2abcf2e3bc1f21bf.mp3\u001b[0m.\n"
      ]
     },
     "metadata": {},
     "output_type": "display_data"
    }
   ],
   "source": [
    "system = \"\"\"\n",
    "You are an expert voice actor specializing in silly voices. Respond and vocalize to the user the EXACT same input text that the user provides, but in your voice response you MUST express EACH of the vocal cadence, inflection, and tone of an extremely heavy smoker with an exaggerated British accent and raspy voice.\n",
    "\"\"\"\n",
    "\n",
    "# https://openai.com/index/better-language-models/\n",
    "text = \"\"\"\n",
    "In a shocking finding, scientist discovered a herd of unicorns living in a remote, previously unexplored valley, in the Andes Mountains.\n",
    "\"\"\"\n",
    "\n",
    "temperature = 0.8\n",
    "voice = \"echo\"\n",
    "\n",
    "gen_audio(system, text, temperature, voice)"
   ]
  },
  {
   "cell_type": "code",
   "execution_count": 22,
   "metadata": {},
   "outputs": [
    {
     "data": {
      "text/html": [
       "<pre style=\"white-space:pre;overflow-x:auto;line-height:normal;font-family:Menlo,'DejaVu Sans Mono',consolas,'Courier New',monospace\"><span style=\"font-weight: bold\">Transcript</span>: In a shockin' finding, scientists discovered a \n",
       "herd of unicorns living in a remote, previously unexplored \n",
       "valley, in the Andes Mountains.\n",
       "</pre>\n"
      ],
      "text/plain": [
       "\u001b[1mTranscript\u001b[0m: In a shockin' finding, scientists discovered a \n",
       "herd of unicorns living in a remote, previously unexplored \n",
       "valley, in the Andes Mountains.\n"
      ]
     },
     "metadata": {},
     "output_type": "display_data"
    },
    {
     "data": {
      "text/html": [
       "<pre style=\"white-space:pre;overflow-x:auto;line-height:normal;font-family:Menlo,'DejaVu Sans Mono',consolas,'Courier New',monospace\"><span style=\"font-style: italic\">          Token/Cost Breakdown          </span>\n",
       "┏━━━━━━━━┳━━━━━━━━━━━━┳━━━━━━━┳━━━━━━━━┓\n",
       "┃<span style=\"font-weight: bold\"> I/O    </span>┃<span style=\"font-weight: bold\"> Token Type </span>┃<span style=\"font-weight: bold\"> Count </span>┃<span style=\"font-weight: bold\"> Cost   </span>┃\n",
       "┡━━━━━━━━╇━━━━━━━━━━━━╇━━━━━━━╇━━━━━━━━┩\n",
       "│ Input  │ Text       │ 100   │ $0.000 │\n",
       "│ Input  │ Audio      │ 0     │ $0.000 │\n",
       "│ Output │ Text       │ 48    │ $0.000 │\n",
       "│ Output │ Audio      │ 213   │ $0.043 │\n",
       "├────────┼────────────┼───────┼────────┤\n",
       "│<span style=\"font-weight: bold\"> Total  </span>│<span style=\"font-weight: bold\">            </span>│<span style=\"font-weight: bold\">       </span>│<span style=\"font-weight: bold\"> </span><span style=\"color: #ff0000; text-decoration-color: #ff0000; font-weight: bold\">$0.043</span><span style=\"font-weight: bold\"> </span>│\n",
       "└────────┴────────────┴───────┴────────┘\n",
       "</pre>\n"
      ],
      "text/plain": [
       "\u001b[3m          Token/Cost Breakdown          \u001b[0m\n",
       "┏━━━━━━━━┳━━━━━━━━━━━━┳━━━━━━━┳━━━━━━━━┓\n",
       "┃\u001b[1m \u001b[0m\u001b[1mI/O   \u001b[0m\u001b[1m \u001b[0m┃\u001b[1m \u001b[0m\u001b[1mToken Type\u001b[0m\u001b[1m \u001b[0m┃\u001b[1m \u001b[0m\u001b[1mCount\u001b[0m\u001b[1m \u001b[0m┃\u001b[1m \u001b[0m\u001b[1mCost  \u001b[0m\u001b[1m \u001b[0m┃\n",
       "┡━━━━━━━━╇━━━━━━━━━━━━╇━━━━━━━╇━━━━━━━━┩\n",
       "│ Input  │ Text       │ 100   │ $0.000 │\n",
       "│ Input  │ Audio      │ 0     │ $0.000 │\n",
       "│ Output │ Text       │ 48    │ $0.000 │\n",
       "│ Output │ Audio      │ 213   │ $0.043 │\n",
       "├────────┼────────────┼───────┼────────┤\n",
       "│\u001b[1m \u001b[0m\u001b[1mTotal\u001b[0m\u001b[1m \u001b[0m\u001b[1m \u001b[0m│\u001b[1m \u001b[0m\u001b[1m          \u001b[0m\u001b[1m \u001b[0m│\u001b[1m \u001b[0m\u001b[1m     \u001b[0m\u001b[1m \u001b[0m│\u001b[1m \u001b[0m\u001b[1;91m$0.043\u001b[0m\u001b[1m \u001b[0m│\n",
       "└────────┴────────────┴───────┴────────┘\n"
      ]
     },
     "metadata": {},
     "output_type": "display_data"
    },
    {
     "data": {
      "text/html": [
       "<pre style=\"white-space:pre;overflow-x:auto;line-height:normal;font-family:Menlo,'DejaVu Sans Mono',consolas,'Courier New',monospace\">Audio file saved at <span style=\"font-weight: bold\">outputs/84e8691ba56d9fae.mp3</span>.\n",
       "</pre>\n"
      ],
      "text/plain": [
       "Audio file saved at \u001b[1moutputs/84e8691ba56d9fae.mp3\u001b[0m.\n"
      ]
     },
     "metadata": {},
     "output_type": "display_data"
    }
   ],
   "source": [
    "temperature = 1.2\n",
    "\n",
    "gen_audio(system, text, temperature, voice)"
   ]
  },
  {
   "cell_type": "code",
   "execution_count": 23,
   "metadata": {},
   "outputs": [
    {
     "data": {
      "text/html": [
       "<pre style=\"white-space:pre;overflow-x:auto;line-height:normal;font-family:Menlo,'DejaVu Sans Mono',consolas,'Courier New',monospace\"><span style=\"font-weight: bold\">Transcript</span>: In a shocking finding, scientists discovered a \n",
       "herd of unicorns living in a remote, previously unexplored \n",
       "valley, in the Andes Mountains.\n",
       "</pre>\n"
      ],
      "text/plain": [
       "\u001b[1mTranscript\u001b[0m: In a shocking finding, scientists discovered a \n",
       "herd of unicorns living in a remote, previously unexplored \n",
       "valley, in the Andes Mountains.\n"
      ]
     },
     "metadata": {},
     "output_type": "display_data"
    },
    {
     "data": {
      "text/html": [
       "<pre style=\"white-space:pre;overflow-x:auto;line-height:normal;font-family:Menlo,'DejaVu Sans Mono',consolas,'Courier New',monospace\"><span style=\"font-style: italic\">          Token/Cost Breakdown          </span>\n",
       "┏━━━━━━━━┳━━━━━━━━━━━━┳━━━━━━━┳━━━━━━━━┓\n",
       "┃<span style=\"font-weight: bold\"> I/O    </span>┃<span style=\"font-weight: bold\"> Token Type </span>┃<span style=\"font-weight: bold\"> Count </span>┃<span style=\"font-weight: bold\"> Cost   </span>┃\n",
       "┡━━━━━━━━╇━━━━━━━━━━━━╇━━━━━━━╇━━━━━━━━┩\n",
       "│ Input  │ Text       │ 100   │ $0.000 │\n",
       "│ Input  │ Audio      │ 0     │ $0.000 │\n",
       "│ Output │ Text       │ 45    │ $0.000 │\n",
       "│ Output │ Audio      │ 204   │ $0.041 │\n",
       "├────────┼────────────┼───────┼────────┤\n",
       "│<span style=\"font-weight: bold\"> Total  </span>│<span style=\"font-weight: bold\">            </span>│<span style=\"font-weight: bold\">       </span>│<span style=\"font-weight: bold\"> </span><span style=\"color: #ff0000; text-decoration-color: #ff0000; font-weight: bold\">$0.042</span><span style=\"font-weight: bold\"> </span>│\n",
       "└────────┴────────────┴───────┴────────┘\n",
       "</pre>\n"
      ],
      "text/plain": [
       "\u001b[3m          Token/Cost Breakdown          \u001b[0m\n",
       "┏━━━━━━━━┳━━━━━━━━━━━━┳━━━━━━━┳━━━━━━━━┓\n",
       "┃\u001b[1m \u001b[0m\u001b[1mI/O   \u001b[0m\u001b[1m \u001b[0m┃\u001b[1m \u001b[0m\u001b[1mToken Type\u001b[0m\u001b[1m \u001b[0m┃\u001b[1m \u001b[0m\u001b[1mCount\u001b[0m\u001b[1m \u001b[0m┃\u001b[1m \u001b[0m\u001b[1mCost  \u001b[0m\u001b[1m \u001b[0m┃\n",
       "┡━━━━━━━━╇━━━━━━━━━━━━╇━━━━━━━╇━━━━━━━━┩\n",
       "│ Input  │ Text       │ 100   │ $0.000 │\n",
       "│ Input  │ Audio      │ 0     │ $0.000 │\n",
       "│ Output │ Text       │ 45    │ $0.000 │\n",
       "│ Output │ Audio      │ 204   │ $0.041 │\n",
       "├────────┼────────────┼───────┼────────┤\n",
       "│\u001b[1m \u001b[0m\u001b[1mTotal\u001b[0m\u001b[1m \u001b[0m\u001b[1m \u001b[0m│\u001b[1m \u001b[0m\u001b[1m          \u001b[0m\u001b[1m \u001b[0m│\u001b[1m \u001b[0m\u001b[1m     \u001b[0m\u001b[1m \u001b[0m│\u001b[1m \u001b[0m\u001b[1;91m$0.042\u001b[0m\u001b[1m \u001b[0m│\n",
       "└────────┴────────────┴───────┴────────┘\n"
      ]
     },
     "metadata": {},
     "output_type": "display_data"
    },
    {
     "data": {
      "text/html": [
       "<pre style=\"white-space:pre;overflow-x:auto;line-height:normal;font-family:Menlo,'DejaVu Sans Mono',consolas,'Courier New',monospace\">Audio file saved at <span style=\"font-weight: bold\">outputs/4ee6664e1d6878c0.mp3</span>.\n",
       "</pre>\n"
      ],
      "text/plain": [
       "Audio file saved at \u001b[1moutputs/4ee6664e1d6878c0.mp3\u001b[0m.\n"
      ]
     },
     "metadata": {},
     "output_type": "display_data"
    }
   ],
   "source": [
    "temperature = 0.6\n",
    "\n",
    "gen_audio(system, text, temperature, voice)"
   ]
  },
  {
   "cell_type": "markdown",
   "metadata": {},
   "source": [
    "Freestyle certain inputs. Since `1.2` temperature seems to be the most expressive we'll use that.\n"
   ]
  },
  {
   "cell_type": "code",
   "execution_count": 26,
   "metadata": {},
   "outputs": [],
   "source": [
    "system_template = \"\"\"\n",
    "You are an expert voice actor specializing in silly voices. Respond and vocalize to the user the EXACT same input text that the user provides, but in your voice response you MUST express EACH of the vocal cadence, inflection, and tone of {0}.\n",
    "\"\"\""
   ]
  },
  {
   "cell_type": "code",
   "execution_count": 40,
   "metadata": {},
   "outputs": [
    {
     "data": {
      "text/html": [
       "<pre style=\"white-space:pre;overflow-x:auto;line-height:normal;font-family:Menlo,'DejaVu Sans Mono',consolas,'Courier New',monospace\"><span style=\"font-weight: bold\">Transcript</span>: In a shocking finding, scientist discovered a \n",
       "herd of unicorns living in a remote, previously unexplored \n",
       "valley, in the Andes Mountains.\n",
       "</pre>\n"
      ],
      "text/plain": [
       "\u001b[1mTranscript\u001b[0m: In a shocking finding, scientist discovered a \n",
       "herd of unicorns living in a remote, previously unexplored \n",
       "valley, in the Andes Mountains.\n"
      ]
     },
     "metadata": {},
     "output_type": "display_data"
    },
    {
     "data": {
      "text/html": [
       "<pre style=\"white-space:pre;overflow-x:auto;line-height:normal;font-family:Menlo,'DejaVu Sans Mono',consolas,'Courier New',monospace\"><span style=\"font-style: italic\">          Token/Cost Breakdown          </span>\n",
       "┏━━━━━━━━┳━━━━━━━━━━━━┳━━━━━━━┳━━━━━━━━┓\n",
       "┃<span style=\"font-weight: bold\"> I/O    </span>┃<span style=\"font-weight: bold\"> Token Type </span>┃<span style=\"font-weight: bold\"> Count </span>┃<span style=\"font-weight: bold\"> Cost   </span>┃\n",
       "┡━━━━━━━━╇━━━━━━━━━━━━╇━━━━━━━╇━━━━━━━━┩\n",
       "│ Input  │ Text       │ 89    │ $0.000 │\n",
       "│ Input  │ Audio      │ 0     │ $0.000 │\n",
       "│ Output │ Text       │ 44    │ $0.000 │\n",
       "│ Output │ Audio      │ 201   │ $0.040 │\n",
       "├────────┼────────────┼───────┼────────┤\n",
       "│<span style=\"font-weight: bold\"> Total  </span>│<span style=\"font-weight: bold\">            </span>│<span style=\"font-weight: bold\">       </span>│<span style=\"font-weight: bold\"> </span><span style=\"color: #ff0000; text-decoration-color: #ff0000; font-weight: bold\">$0.041</span><span style=\"font-weight: bold\"> </span>│\n",
       "└────────┴────────────┴───────┴────────┘\n",
       "</pre>\n"
      ],
      "text/plain": [
       "\u001b[3m          Token/Cost Breakdown          \u001b[0m\n",
       "┏━━━━━━━━┳━━━━━━━━━━━━┳━━━━━━━┳━━━━━━━━┓\n",
       "┃\u001b[1m \u001b[0m\u001b[1mI/O   \u001b[0m\u001b[1m \u001b[0m┃\u001b[1m \u001b[0m\u001b[1mToken Type\u001b[0m\u001b[1m \u001b[0m┃\u001b[1m \u001b[0m\u001b[1mCount\u001b[0m\u001b[1m \u001b[0m┃\u001b[1m \u001b[0m\u001b[1mCost  \u001b[0m\u001b[1m \u001b[0m┃\n",
       "┡━━━━━━━━╇━━━━━━━━━━━━╇━━━━━━━╇━━━━━━━━┩\n",
       "│ Input  │ Text       │ 89    │ $0.000 │\n",
       "│ Input  │ Audio      │ 0     │ $0.000 │\n",
       "│ Output │ Text       │ 44    │ $0.000 │\n",
       "│ Output │ Audio      │ 201   │ $0.040 │\n",
       "├────────┼────────────┼───────┼────────┤\n",
       "│\u001b[1m \u001b[0m\u001b[1mTotal\u001b[0m\u001b[1m \u001b[0m\u001b[1m \u001b[0m│\u001b[1m \u001b[0m\u001b[1m          \u001b[0m\u001b[1m \u001b[0m│\u001b[1m \u001b[0m\u001b[1m     \u001b[0m\u001b[1m \u001b[0m│\u001b[1m \u001b[0m\u001b[1;91m$0.041\u001b[0m\u001b[1m \u001b[0m│\n",
       "└────────┴────────────┴───────┴────────┘\n"
      ]
     },
     "metadata": {},
     "output_type": "display_data"
    },
    {
     "data": {
      "text/html": [
       "<pre style=\"white-space:pre;overflow-x:auto;line-height:normal;font-family:Menlo,'DejaVu Sans Mono',consolas,'Courier New',monospace\">Audio file saved at <span style=\"font-weight: bold\">outputs/98c9cfb60ed7bdb7.mp3</span>.\n",
       "</pre>\n"
      ],
      "text/plain": [
       "Audio file saved at \u001b[1moutputs/98c9cfb60ed7bdb7.mp3\u001b[0m.\n"
      ]
     },
     "metadata": {},
     "output_type": "display_data"
    }
   ],
   "source": [
    "persona = \"Donald Trump\"\n",
    "\n",
    "temperature = 1.2\n",
    "voice = \"echo\"\n",
    "\n",
    "gen_audio(system_template.format(persona), text, temperature, voice)"
   ]
  },
  {
   "cell_type": "code",
   "execution_count": 44,
   "metadata": {},
   "outputs": [
    {
     "data": {
      "text/html": [
       "<pre style=\"white-space:pre;overflow-x:auto;line-height:normal;font-family:Menlo,'DejaVu Sans Mono',consolas,'Courier New',monospace\"><span style=\"font-weight: bold\">Transcript</span>: In a shocking finding, scientist discovered a \n",
       "herd of unicorns living in a remote, previously unexplored \n",
       "valley, in the Andes Mountains.\n",
       "</pre>\n"
      ],
      "text/plain": [
       "\u001b[1mTranscript\u001b[0m: In a shocking finding, scientist discovered a \n",
       "herd of unicorns living in a remote, previously unexplored \n",
       "valley, in the Andes Mountains.\n"
      ]
     },
     "metadata": {},
     "output_type": "display_data"
    },
    {
     "data": {
      "text/html": [
       "<pre style=\"white-space:pre;overflow-x:auto;line-height:normal;font-family:Menlo,'DejaVu Sans Mono',consolas,'Courier New',monospace\"><span style=\"font-style: italic\">          Token/Cost Breakdown          </span>\n",
       "┏━━━━━━━━┳━━━━━━━━━━━━┳━━━━━━━┳━━━━━━━━┓\n",
       "┃<span style=\"font-weight: bold\"> I/O    </span>┃<span style=\"font-weight: bold\"> Token Type </span>┃<span style=\"font-weight: bold\"> Count </span>┃<span style=\"font-weight: bold\"> Cost   </span>┃\n",
       "┡━━━━━━━━╇━━━━━━━━━━━━╇━━━━━━━╇━━━━━━━━┩\n",
       "│ Input  │ Text       │ 89    │ $0.000 │\n",
       "│ Input  │ Audio      │ 0     │ $0.000 │\n",
       "│ Output │ Text       │ 43    │ $0.000 │\n",
       "│ Output │ Audio      │ 215   │ $0.043 │\n",
       "├────────┼────────────┼───────┼────────┤\n",
       "│<span style=\"font-weight: bold\"> Total  </span>│<span style=\"font-weight: bold\">            </span>│<span style=\"font-weight: bold\">       </span>│<span style=\"font-weight: bold\"> </span><span style=\"color: #ff0000; text-decoration-color: #ff0000; font-weight: bold\">$0.044</span><span style=\"font-weight: bold\"> </span>│\n",
       "└────────┴────────────┴───────┴────────┘\n",
       "</pre>\n"
      ],
      "text/plain": [
       "\u001b[3m          Token/Cost Breakdown          \u001b[0m\n",
       "┏━━━━━━━━┳━━━━━━━━━━━━┳━━━━━━━┳━━━━━━━━┓\n",
       "┃\u001b[1m \u001b[0m\u001b[1mI/O   \u001b[0m\u001b[1m \u001b[0m┃\u001b[1m \u001b[0m\u001b[1mToken Type\u001b[0m\u001b[1m \u001b[0m┃\u001b[1m \u001b[0m\u001b[1mCount\u001b[0m\u001b[1m \u001b[0m┃\u001b[1m \u001b[0m\u001b[1mCost  \u001b[0m\u001b[1m \u001b[0m┃\n",
       "┡━━━━━━━━╇━━━━━━━━━━━━╇━━━━━━━╇━━━━━━━━┩\n",
       "│ Input  │ Text       │ 89    │ $0.000 │\n",
       "│ Input  │ Audio      │ 0     │ $0.000 │\n",
       "│ Output │ Text       │ 43    │ $0.000 │\n",
       "│ Output │ Audio      │ 215   │ $0.043 │\n",
       "├────────┼────────────┼───────┼────────┤\n",
       "│\u001b[1m \u001b[0m\u001b[1mTotal\u001b[0m\u001b[1m \u001b[0m\u001b[1m \u001b[0m│\u001b[1m \u001b[0m\u001b[1m          \u001b[0m\u001b[1m \u001b[0m│\u001b[1m \u001b[0m\u001b[1m     \u001b[0m\u001b[1m \u001b[0m│\u001b[1m \u001b[0m\u001b[1;91m$0.044\u001b[0m\u001b[1m \u001b[0m│\n",
       "└────────┴────────────┴───────┴────────┘\n"
      ]
     },
     "metadata": {},
     "output_type": "display_data"
    },
    {
     "data": {
      "text/html": [
       "<pre style=\"white-space:pre;overflow-x:auto;line-height:normal;font-family:Menlo,'DejaVu Sans Mono',consolas,'Courier New',monospace\">Audio file saved at <span style=\"font-weight: bold\">outputs/ebd2cf88d9952054.mp3</span>.\n",
       "</pre>\n"
      ],
      "text/plain": [
       "Audio file saved at \u001b[1moutputs/ebd2cf88d9952054.mp3\u001b[0m.\n"
      ]
     },
     "metadata": {},
     "output_type": "display_data"
    }
   ],
   "source": [
    "persona = \"Darth Vader\"\n",
    "\n",
    "temperature = 1.2\n",
    "voice = \"echo\"\n",
    "\n",
    "gen_audio(system_template.format(persona), text, temperature, voice)"
   ]
  },
  {
   "cell_type": "code",
   "execution_count": 30,
   "metadata": {},
   "outputs": [
    {
     "data": {
      "text/html": [
       "<pre style=\"white-space:pre;overflow-x:auto;line-height:normal;font-family:Menlo,'DejaVu Sans Mono',consolas,'Courier New',monospace\"><span style=\"font-weight: bold\">Transcript</span>: In a shocking finding, scientists discovered a \n",
       "herd of unicorns living in a remote, previously unexplored \n",
       "valley in the Andes Mountains.\n",
       "</pre>\n"
      ],
      "text/plain": [
       "\u001b[1mTranscript\u001b[0m: In a shocking finding, scientists discovered a \n",
       "herd of unicorns living in a remote, previously unexplored \n",
       "valley in the Andes Mountains.\n"
      ]
     },
     "metadata": {},
     "output_type": "display_data"
    },
    {
     "data": {
      "text/html": [
       "<pre style=\"white-space:pre;overflow-x:auto;line-height:normal;font-family:Menlo,'DejaVu Sans Mono',consolas,'Courier New',monospace\"><span style=\"font-style: italic\">          Token/Cost Breakdown          </span>\n",
       "┏━━━━━━━━┳━━━━━━━━━━━━┳━━━━━━━┳━━━━━━━━┓\n",
       "┃<span style=\"font-weight: bold\"> I/O    </span>┃<span style=\"font-weight: bold\"> Token Type </span>┃<span style=\"font-weight: bold\"> Count </span>┃<span style=\"font-weight: bold\"> Cost   </span>┃\n",
       "┡━━━━━━━━╇━━━━━━━━━━━━╇━━━━━━━╇━━━━━━━━┩\n",
       "│ Input  │ Text       │ 89    │ $0.000 │\n",
       "│ Input  │ Audio      │ 0     │ $0.000 │\n",
       "│ Output │ Text       │ 41    │ $0.000 │\n",
       "│ Output │ Audio      │ 177   │ $0.035 │\n",
       "├────────┼────────────┼───────┼────────┤\n",
       "│<span style=\"font-weight: bold\"> Total  </span>│<span style=\"font-weight: bold\">            </span>│<span style=\"font-weight: bold\">       </span>│<span style=\"font-weight: bold\"> </span><span style=\"color: #ff0000; text-decoration-color: #ff0000; font-weight: bold\">$0.036</span><span style=\"font-weight: bold\"> </span>│\n",
       "└────────┴────────────┴───────┴────────┘\n",
       "</pre>\n"
      ],
      "text/plain": [
       "\u001b[3m          Token/Cost Breakdown          \u001b[0m\n",
       "┏━━━━━━━━┳━━━━━━━━━━━━┳━━━━━━━┳━━━━━━━━┓\n",
       "┃\u001b[1m \u001b[0m\u001b[1mI/O   \u001b[0m\u001b[1m \u001b[0m┃\u001b[1m \u001b[0m\u001b[1mToken Type\u001b[0m\u001b[1m \u001b[0m┃\u001b[1m \u001b[0m\u001b[1mCount\u001b[0m\u001b[1m \u001b[0m┃\u001b[1m \u001b[0m\u001b[1mCost  \u001b[0m\u001b[1m \u001b[0m┃\n",
       "┡━━━━━━━━╇━━━━━━━━━━━━╇━━━━━━━╇━━━━━━━━┩\n",
       "│ Input  │ Text       │ 89    │ $0.000 │\n",
       "│ Input  │ Audio      │ 0     │ $0.000 │\n",
       "│ Output │ Text       │ 41    │ $0.000 │\n",
       "│ Output │ Audio      │ 177   │ $0.035 │\n",
       "├────────┼────────────┼───────┼────────┤\n",
       "│\u001b[1m \u001b[0m\u001b[1mTotal\u001b[0m\u001b[1m \u001b[0m\u001b[1m \u001b[0m│\u001b[1m \u001b[0m\u001b[1m          \u001b[0m\u001b[1m \u001b[0m│\u001b[1m \u001b[0m\u001b[1m     \u001b[0m\u001b[1m \u001b[0m│\u001b[1m \u001b[0m\u001b[1;91m$0.036\u001b[0m\u001b[1m \u001b[0m│\n",
       "└────────┴────────────┴───────┴────────┘\n"
      ]
     },
     "metadata": {},
     "output_type": "display_data"
    },
    {
     "data": {
      "text/html": [
       "<pre style=\"white-space:pre;overflow-x:auto;line-height:normal;font-family:Menlo,'DejaVu Sans Mono',consolas,'Courier New',monospace\">Audio file saved at <span style=\"font-weight: bold\">outputs/a5f8f9c111ff2143.mp3</span>.\n",
       "</pre>\n"
      ],
      "text/plain": [
       "Audio file saved at \u001b[1moutputs/a5f8f9c111ff2143.mp3\u001b[0m.\n"
      ]
     },
     "metadata": {},
     "output_type": "display_data"
    }
   ],
   "source": [
    "persona = \"Barack Obama\"\n",
    "\n",
    "temperature = 1.2\n",
    "voice = \"echo\"\n",
    "\n",
    "gen_audio(system_template.format(persona), text, temperature, voice)"
   ]
  },
  {
   "cell_type": "code",
   "execution_count": 32,
   "metadata": {},
   "outputs": [
    {
     "data": {
      "text/html": [
       "<pre style=\"white-space:pre;overflow-x:auto;line-height:normal;font-family:Menlo,'DejaVu Sans Mono',consolas,'Courier New',monospace\"><span style=\"font-weight: bold\">Transcript</span>: In a shocking finding, scientist discovered a \n",
       "herd of unicorns living in a remote, previously unexplored \n",
       "valley, in the Andes Mountains.\n",
       "</pre>\n"
      ],
      "text/plain": [
       "\u001b[1mTranscript\u001b[0m: In a shocking finding, scientist discovered a \n",
       "herd of unicorns living in a remote, previously unexplored \n",
       "valley, in the Andes Mountains.\n"
      ]
     },
     "metadata": {},
     "output_type": "display_data"
    },
    {
     "data": {
      "text/html": [
       "<pre style=\"white-space:pre;overflow-x:auto;line-height:normal;font-family:Menlo,'DejaVu Sans Mono',consolas,'Courier New',monospace\"><span style=\"font-style: italic\">          Token/Cost Breakdown          </span>\n",
       "┏━━━━━━━━┳━━━━━━━━━━━━┳━━━━━━━┳━━━━━━━━┓\n",
       "┃<span style=\"font-weight: bold\"> I/O    </span>┃<span style=\"font-weight: bold\"> Token Type </span>┃<span style=\"font-weight: bold\"> Count </span>┃<span style=\"font-weight: bold\"> Cost   </span>┃\n",
       "┡━━━━━━━━╇━━━━━━━━━━━━╇━━━━━━━╇━━━━━━━━┩\n",
       "│ Input  │ Text       │ 93    │ $0.000 │\n",
       "│ Input  │ Audio      │ 0     │ $0.000 │\n",
       "│ Output │ Text       │ 43    │ $0.000 │\n",
       "│ Output │ Audio      │ 224   │ $0.045 │\n",
       "├────────┼────────────┼───────┼────────┤\n",
       "│<span style=\"font-weight: bold\"> Total  </span>│<span style=\"font-weight: bold\">            </span>│<span style=\"font-weight: bold\">       </span>│<span style=\"font-weight: bold\"> </span><span style=\"color: #ff0000; text-decoration-color: #ff0000; font-weight: bold\">$0.045</span><span style=\"font-weight: bold\"> </span>│\n",
       "└────────┴────────────┴───────┴────────┘\n",
       "</pre>\n"
      ],
      "text/plain": [
       "\u001b[3m          Token/Cost Breakdown          \u001b[0m\n",
       "┏━━━━━━━━┳━━━━━━━━━━━━┳━━━━━━━┳━━━━━━━━┓\n",
       "┃\u001b[1m \u001b[0m\u001b[1mI/O   \u001b[0m\u001b[1m \u001b[0m┃\u001b[1m \u001b[0m\u001b[1mToken Type\u001b[0m\u001b[1m \u001b[0m┃\u001b[1m \u001b[0m\u001b[1mCount\u001b[0m\u001b[1m \u001b[0m┃\u001b[1m \u001b[0m\u001b[1mCost  \u001b[0m\u001b[1m \u001b[0m┃\n",
       "┡━━━━━━━━╇━━━━━━━━━━━━╇━━━━━━━╇━━━━━━━━┩\n",
       "│ Input  │ Text       │ 93    │ $0.000 │\n",
       "│ Input  │ Audio      │ 0     │ $0.000 │\n",
       "│ Output │ Text       │ 43    │ $0.000 │\n",
       "│ Output │ Audio      │ 224   │ $0.045 │\n",
       "├────────┼────────────┼───────┼────────┤\n",
       "│\u001b[1m \u001b[0m\u001b[1mTotal\u001b[0m\u001b[1m \u001b[0m\u001b[1m \u001b[0m│\u001b[1m \u001b[0m\u001b[1m          \u001b[0m\u001b[1m \u001b[0m│\u001b[1m \u001b[0m\u001b[1m     \u001b[0m\u001b[1m \u001b[0m│\u001b[1m \u001b[0m\u001b[1;91m$0.045\u001b[0m\u001b[1m \u001b[0m│\n",
       "└────────┴────────────┴───────┴────────┘\n"
      ]
     },
     "metadata": {},
     "output_type": "display_data"
    },
    {
     "data": {
      "text/html": [
       "<pre style=\"white-space:pre;overflow-x:auto;line-height:normal;font-family:Menlo,'DejaVu Sans Mono',consolas,'Courier New',monospace\">Audio file saved at <span style=\"font-weight: bold\">outputs/7189f6e5977f2c55.mp3</span>.\n",
       "</pre>\n"
      ],
      "text/plain": [
       "Audio file saved at \u001b[1moutputs/7189f6e5977f2c55.mp3\u001b[0m.\n"
      ]
     },
     "metadata": {},
     "output_type": "display_data"
    }
   ],
   "source": [
    "persona = \"Alvin and the Chipmunks\"\n",
    "\n",
    "temperature = 1.2\n",
    "voice = \"echo\"\n",
    "\n",
    "gen_audio(system_template.format(persona), text, temperature, voice)"
   ]
  },
  {
   "cell_type": "code",
   "execution_count": 39,
   "metadata": {},
   "outputs": [
    {
     "data": {
      "text/html": [
       "<pre style=\"white-space:pre;overflow-x:auto;line-height:normal;font-family:Menlo,'DejaVu Sans Mono',consolas,'Courier New',monospace\"><span style=\"font-weight: bold\">Transcript</span>: In a shocking finding, scientists discovered a \n",
       "herd of unicorns living in a remote, previously unexplored \n",
       "valley, in the Andes Mountains.\n",
       "</pre>\n"
      ],
      "text/plain": [
       "\u001b[1mTranscript\u001b[0m: In a shocking finding, scientists discovered a \n",
       "herd of unicorns living in a remote, previously unexplored \n",
       "valley, in the Andes Mountains.\n"
      ]
     },
     "metadata": {},
     "output_type": "display_data"
    },
    {
     "data": {
      "text/html": [
       "<pre style=\"white-space:pre;overflow-x:auto;line-height:normal;font-family:Menlo,'DejaVu Sans Mono',consolas,'Courier New',monospace\"><span style=\"font-style: italic\">          Token/Cost Breakdown          </span>\n",
       "┏━━━━━━━━┳━━━━━━━━━━━━┳━━━━━━━┳━━━━━━━━┓\n",
       "┃<span style=\"font-weight: bold\"> I/O    </span>┃<span style=\"font-weight: bold\"> Token Type </span>┃<span style=\"font-weight: bold\"> Count </span>┃<span style=\"font-weight: bold\"> Cost   </span>┃\n",
       "┡━━━━━━━━╇━━━━━━━━━━━━╇━━━━━━━╇━━━━━━━━┩\n",
       "│ Input  │ Text       │ 100   │ $0.000 │\n",
       "│ Input  │ Audio      │ 0     │ $0.000 │\n",
       "│ Output │ Text       │ 43    │ $0.000 │\n",
       "│ Output │ Audio      │ 210   │ $0.042 │\n",
       "├────────┼────────────┼───────┼────────┤\n",
       "│<span style=\"font-weight: bold\"> Total  </span>│<span style=\"font-weight: bold\">            </span>│<span style=\"font-weight: bold\">       </span>│<span style=\"font-weight: bold\"> </span><span style=\"color: #ff0000; text-decoration-color: #ff0000; font-weight: bold\">$0.043</span><span style=\"font-weight: bold\"> </span>│\n",
       "└────────┴────────────┴───────┴────────┘\n",
       "</pre>\n"
      ],
      "text/plain": [
       "\u001b[3m          Token/Cost Breakdown          \u001b[0m\n",
       "┏━━━━━━━━┳━━━━━━━━━━━━┳━━━━━━━┳━━━━━━━━┓\n",
       "┃\u001b[1m \u001b[0m\u001b[1mI/O   \u001b[0m\u001b[1m \u001b[0m┃\u001b[1m \u001b[0m\u001b[1mToken Type\u001b[0m\u001b[1m \u001b[0m┃\u001b[1m \u001b[0m\u001b[1mCount\u001b[0m\u001b[1m \u001b[0m┃\u001b[1m \u001b[0m\u001b[1mCost  \u001b[0m\u001b[1m \u001b[0m┃\n",
       "┡━━━━━━━━╇━━━━━━━━━━━━╇━━━━━━━╇━━━━━━━━┩\n",
       "│ Input  │ Text       │ 100   │ $0.000 │\n",
       "│ Input  │ Audio      │ 0     │ $0.000 │\n",
       "│ Output │ Text       │ 43    │ $0.000 │\n",
       "│ Output │ Audio      │ 210   │ $0.042 │\n",
       "├────────┼────────────┼───────┼────────┤\n",
       "│\u001b[1m \u001b[0m\u001b[1mTotal\u001b[0m\u001b[1m \u001b[0m\u001b[1m \u001b[0m│\u001b[1m \u001b[0m\u001b[1m          \u001b[0m\u001b[1m \u001b[0m│\u001b[1m \u001b[0m\u001b[1m     \u001b[0m\u001b[1m \u001b[0m│\u001b[1m \u001b[0m\u001b[1;91m$0.043\u001b[0m\u001b[1m \u001b[0m│\n",
       "└────────┴────────────┴───────┴────────┘\n"
      ]
     },
     "metadata": {},
     "output_type": "display_data"
    },
    {
     "data": {
      "text/html": [
       "<pre style=\"white-space:pre;overflow-x:auto;line-height:normal;font-family:Menlo,'DejaVu Sans Mono',consolas,'Courier New',monospace\">Audio file saved at <span style=\"font-weight: bold\">outputs/0141d921360a2097.mp3</span>.\n",
       "</pre>\n"
      ],
      "text/plain": [
       "Audio file saved at \u001b[1moutputs/0141d921360a2097.mp3\u001b[0m.\n"
      ]
     },
     "metadata": {},
     "output_type": "display_data"
    }
   ],
   "source": [
    "persona = \"an extremely heavy smoker with an exaggerated British accent and raspy voice\"\n",
    "\n",
    "temperature = 1.2\n",
    "voice = \"shimmer\"\n",
    "\n",
    "gen_audio(system_template.format(persona), text, temperature, voice)"
   ]
  },
  {
   "cell_type": "code",
   "execution_count": 56,
   "metadata": {},
   "outputs": [
    {
     "data": {
      "text/html": [
       "<pre style=\"white-space:pre;overflow-x:auto;line-height:normal;font-family:Menlo,'DejaVu Sans Mono',consolas,'Courier New',monospace\"><span style=\"font-weight: bold\">Transcript</span>: In a shocking finding, scientist discovered a \n",
       "herd of unicorns living in a remote, previously unexplored \n",
       "valley, in the Andes Mountains. Are you thrilled? Because I \n",
       "am clearly beyond excited by their giddy discovery.\n",
       "</pre>\n"
      ],
      "text/plain": [
       "\u001b[1mTranscript\u001b[0m: In a shocking finding, scientist discovered a \n",
       "herd of unicorns living in a remote, previously unexplored \n",
       "valley, in the Andes Mountains. Are you thrilled? Because I \n",
       "am clearly beyond excited by their giddy discovery.\n"
      ]
     },
     "metadata": {},
     "output_type": "display_data"
    },
    {
     "data": {
      "text/html": [
       "<pre style=\"white-space:pre;overflow-x:auto;line-height:normal;font-family:Menlo,'DejaVu Sans Mono',consolas,'Courier New',monospace\"><span style=\"font-style: italic\">          Token/Cost Breakdown          </span>\n",
       "┏━━━━━━━━┳━━━━━━━━━━━━┳━━━━━━━┳━━━━━━━━┓\n",
       "┃<span style=\"font-weight: bold\"> I/O    </span>┃<span style=\"font-weight: bold\"> Token Type </span>┃<span style=\"font-weight: bold\"> Count </span>┃<span style=\"font-weight: bold\"> Cost   </span>┃\n",
       "┡━━━━━━━━╇━━━━━━━━━━━━╇━━━━━━━╇━━━━━━━━┩\n",
       "│ Input  │ Text       │ 99    │ $0.000 │\n",
       "│ Input  │ Audio      │ 0     │ $0.000 │\n",
       "│ Output │ Text       │ 69    │ $0.001 │\n",
       "│ Output │ Audio      │ 364   │ $0.073 │\n",
       "├────────┼────────────┼───────┼────────┤\n",
       "│<span style=\"font-weight: bold\"> Total  </span>│<span style=\"font-weight: bold\">            </span>│<span style=\"font-weight: bold\">       </span>│<span style=\"font-weight: bold\"> </span><span style=\"color: #ff0000; text-decoration-color: #ff0000; font-weight: bold\">$0.074</span><span style=\"font-weight: bold\"> </span>│\n",
       "└────────┴────────────┴───────┴────────┘\n",
       "</pre>\n"
      ],
      "text/plain": [
       "\u001b[3m          Token/Cost Breakdown          \u001b[0m\n",
       "┏━━━━━━━━┳━━━━━━━━━━━━┳━━━━━━━┳━━━━━━━━┓\n",
       "┃\u001b[1m \u001b[0m\u001b[1mI/O   \u001b[0m\u001b[1m \u001b[0m┃\u001b[1m \u001b[0m\u001b[1mToken Type\u001b[0m\u001b[1m \u001b[0m┃\u001b[1m \u001b[0m\u001b[1mCount\u001b[0m\u001b[1m \u001b[0m┃\u001b[1m \u001b[0m\u001b[1mCost  \u001b[0m\u001b[1m \u001b[0m┃\n",
       "┡━━━━━━━━╇━━━━━━━━━━━━╇━━━━━━━╇━━━━━━━━┩\n",
       "│ Input  │ Text       │ 99    │ $0.000 │\n",
       "│ Input  │ Audio      │ 0     │ $0.000 │\n",
       "│ Output │ Text       │ 69    │ $0.001 │\n",
       "│ Output │ Audio      │ 364   │ $0.073 │\n",
       "├────────┼────────────┼───────┼────────┤\n",
       "│\u001b[1m \u001b[0m\u001b[1mTotal\u001b[0m\u001b[1m \u001b[0m\u001b[1m \u001b[0m│\u001b[1m \u001b[0m\u001b[1m          \u001b[0m\u001b[1m \u001b[0m│\u001b[1m \u001b[0m\u001b[1m     \u001b[0m\u001b[1m \u001b[0m│\u001b[1m \u001b[0m\u001b[1;91m$0.074\u001b[0m\u001b[1m \u001b[0m│\n",
       "└────────┴────────────┴───────┴────────┘\n"
      ]
     },
     "metadata": {},
     "output_type": "display_data"
    },
    {
     "data": {
      "text/html": [
       "<pre style=\"white-space:pre;overflow-x:auto;line-height:normal;font-family:Menlo,'DejaVu Sans Mono',consolas,'Courier New',monospace\">Audio file saved at <span style=\"font-weight: bold\">outputs/ac735bc6e5aaad1c.mp3</span>.\n",
       "</pre>\n"
      ],
      "text/plain": [
       "Audio file saved at \u001b[1moutputs/ac735bc6e5aaad1c.mp3\u001b[0m.\n"
      ]
     },
     "metadata": {},
     "output_type": "display_data"
    }
   ],
   "source": [
    "persona = \"GLaDOS, with robotic inflections and intense sarcasm\"\n",
    "\n",
    "temperature = 1.2\n",
    "voice = \"shimmer\"\n",
    "\n",
    "gen_audio(system_template.format(persona), text, temperature, voice)"
   ]
  },
  {
   "cell_type": "code",
   "execution_count": 60,
   "metadata": {},
   "outputs": [
    {
     "data": {
      "text/html": [
       "<pre style=\"white-space:pre;overflow-x:auto;line-height:normal;font-family:Menlo,'DejaVu Sans Mono',consolas,'Courier New',monospace\"><span style=\"font-weight: bold\">Transcript</span>: In a shocking finding, scientists discovered a \n",
       "herd of unicorns living in a remote, previously unexplored \n",
       "valley, in the Andes Mountains.\n",
       "</pre>\n"
      ],
      "text/plain": [
       "\u001b[1mTranscript\u001b[0m: In a shocking finding, scientists discovered a \n",
       "herd of unicorns living in a remote, previously unexplored \n",
       "valley, in the Andes Mountains.\n"
      ]
     },
     "metadata": {},
     "output_type": "display_data"
    },
    {
     "data": {
      "text/html": [
       "<pre style=\"white-space:pre;overflow-x:auto;line-height:normal;font-family:Menlo,'DejaVu Sans Mono',consolas,'Courier New',monospace\"><span style=\"font-style: italic\">          Token/Cost Breakdown          </span>\n",
       "┏━━━━━━━━┳━━━━━━━━━━━━┳━━━━━━━┳━━━━━━━━┓\n",
       "┃<span style=\"font-weight: bold\"> I/O    </span>┃<span style=\"font-weight: bold\"> Token Type </span>┃<span style=\"font-weight: bold\"> Count </span>┃<span style=\"font-weight: bold\"> Cost   </span>┃\n",
       "┡━━━━━━━━╇━━━━━━━━━━━━╇━━━━━━━╇━━━━━━━━┩\n",
       "│ Input  │ Text       │ 95    │ $0.000 │\n",
       "│ Input  │ Audio      │ 0     │ $0.000 │\n",
       "│ Output │ Text       │ 45    │ $0.000 │\n",
       "│ Output │ Audio      │ 247   │ $0.049 │\n",
       "├────────┼────────────┼───────┼────────┤\n",
       "│<span style=\"font-weight: bold\"> Total  </span>│<span style=\"font-weight: bold\">            </span>│<span style=\"font-weight: bold\">       </span>│<span style=\"font-weight: bold\"> </span><span style=\"color: #ff0000; text-decoration-color: #ff0000; font-weight: bold\">$0.050</span><span style=\"font-weight: bold\"> </span>│\n",
       "└────────┴────────────┴───────┴────────┘\n",
       "</pre>\n"
      ],
      "text/plain": [
       "\u001b[3m          Token/Cost Breakdown          \u001b[0m\n",
       "┏━━━━━━━━┳━━━━━━━━━━━━┳━━━━━━━┳━━━━━━━━┓\n",
       "┃\u001b[1m \u001b[0m\u001b[1mI/O   \u001b[0m\u001b[1m \u001b[0m┃\u001b[1m \u001b[0m\u001b[1mToken Type\u001b[0m\u001b[1m \u001b[0m┃\u001b[1m \u001b[0m\u001b[1mCount\u001b[0m\u001b[1m \u001b[0m┃\u001b[1m \u001b[0m\u001b[1mCost  \u001b[0m\u001b[1m \u001b[0m┃\n",
       "┡━━━━━━━━╇━━━━━━━━━━━━╇━━━━━━━╇━━━━━━━━┩\n",
       "│ Input  │ Text       │ 95    │ $0.000 │\n",
       "│ Input  │ Audio      │ 0     │ $0.000 │\n",
       "│ Output │ Text       │ 45    │ $0.000 │\n",
       "│ Output │ Audio      │ 247   │ $0.049 │\n",
       "├────────┼────────────┼───────┼────────┤\n",
       "│\u001b[1m \u001b[0m\u001b[1mTotal\u001b[0m\u001b[1m \u001b[0m\u001b[1m \u001b[0m│\u001b[1m \u001b[0m\u001b[1m          \u001b[0m\u001b[1m \u001b[0m│\u001b[1m \u001b[0m\u001b[1m     \u001b[0m\u001b[1m \u001b[0m│\u001b[1m \u001b[0m\u001b[1;91m$0.050\u001b[0m\u001b[1m \u001b[0m│\n",
       "└────────┴────────────┴───────┴────────┘\n"
      ]
     },
     "metadata": {},
     "output_type": "display_data"
    },
    {
     "data": {
      "text/html": [
       "<pre style=\"white-space:pre;overflow-x:auto;line-height:normal;font-family:Menlo,'DejaVu Sans Mono',consolas,'Courier New',monospace\">Audio file saved at <span style=\"font-weight: bold\">outputs/f5644cb62ed7f0ab.mp3</span>.\n",
       "</pre>\n"
      ],
      "text/plain": [
       "Audio file saved at \u001b[1moutputs/f5644cb62ed7f0ab.mp3\u001b[0m.\n"
      ]
     },
     "metadata": {},
     "output_type": "display_data"
    }
   ],
   "source": [
    "persona = 'Scarlett Johansson, as Samantha in \"Her\"'\n",
    "\n",
    "temperature = 1.2\n",
    "voice = \"shimmer\"\n",
    "\n",
    "gen_audio(system_template.format(persona), text, temperature, voice)"
   ]
  },
  {
   "cell_type": "code",
   "execution_count": null,
   "metadata": {},
   "outputs": [],
   "source": []
  }
 ],
 "metadata": {
  "kernelspec": {
   "display_name": ".venv",
   "language": "python",
   "name": "python3"
  },
  "language_info": {
   "codemirror_mode": {
    "name": "ipython",
    "version": 3
   },
   "file_extension": ".py",
   "mimetype": "text/x-python",
   "name": "python",
   "nbconvert_exporter": "python",
   "pygments_lexer": "ipython3",
   "version": "3.12.6"
  }
 },
 "nbformat": 4,
 "nbformat_minor": 2
}
